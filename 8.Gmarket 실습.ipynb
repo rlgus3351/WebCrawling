{
 "cells": [
  {
   "attachments": {},
   "cell_type": "markdown",
   "metadata": {},
   "source": [
    "- (실습) 카테고리를 1초마다 클릭해서 넘어가는 로직 구현하기!"
   ]
  },
  {
   "cell_type": "code",
   "execution_count": null,
   "metadata": {},
   "outputs": [],
   "source": [
    "# 모듈 가져오기\n",
    "from selenium import webdriver\n",
    "from selenium.webdriver.common.by import By\n",
    "from selenium.webdriver.common.keys import Keys\n",
    "\n",
    "import time\n",
    "import pandas as pd"
   ]
  },
  {
   "cell_type": "code",
   "execution_count": null,
   "metadata": {},
   "outputs": [],
   "source": [
    "url = \"https://corners.gmarket.co.kr/bestsellers\"\n",
    "driver = webdriver.Chrome()\n",
    "driver.get(url)"
   ]
  },
  {
   "cell_type": "code",
   "execution_count": null,
   "metadata": {},
   "outputs": [],
   "source": [
    "# ul>li>a 형태\n",
    "groupList = driver.find_elements(By.CSS_SELECTOR, '#categoryTabG > li > a')\n",
    "groupList\n",
    "len(groupList)"
   ]
  },
  {
   "cell_type": "code",
   "execution_count": null,
   "metadata": {},
   "outputs": [],
   "source": [
    "# 첫번째 요소 접근 글자 추출\n",
    "groupList[0].text"
   ]
  },
  {
   "cell_type": "code",
   "execution_count": null,
   "metadata": {},
   "outputs": [],
   "source": [
    "pdNameList2 = []\n",
    "pdPriceList2 = []\n",
    "groupList2 = []\n",
    "\n",
    "# ALL이 아니라, 패션의류부터 시작 \n",
    "# 카테고리가 12개 고정이라 범위를 1~12까지 설정해준다.\n",
    "for i in range(1, 13):\n",
    "    \n",
    "    # 위에 groupList에 담았던 변수들이 페이지를 돌아다니면서 요소상태가 변해서 오류가 나서 for문 안에 넣어준다.\n",
    "    group = driver.find_elements(By.CSS_SELECTOR, '#categoryTabG > li > a')\n",
    "    \n",
    "    # click()으로 페이지가 넘어가기 전에 그룹데이터를 변수에 저장하고\n",
    "    # 각 상품에 그룹 데이터를 매핑하기 위한 데이터\n",
    "    groupNm = group[i].text\n",
    "    \n",
    "    group[i].click()\n",
    "    time.sleep(1)\n",
    "    # 그룹리스트별 a를 클릭\n",
    "    \n",
    "    # 그룹별 상품 데이터 수집\n",
    "    pdNameList = driver.find_elements(By.CSS_SELECTOR, \"a.itemname\")\n",
    "    pdPriceList = driver.find_elements(By.CSS_SELECTOR, 'span.for-a11y + strong > span')\n",
    "    print(\"-\"*50)\n",
    "    \n",
    "    for j in range(len(pdNameList)):\n",
    "        pdNameList2.append(pdNameList[j].text)\n",
    "        pdPriceList2.append(pdPriceList[j].text)\n",
    "        \n",
    "        # 그룹에 대한 데이터를 넣어주기 위해\n",
    "        groupList2.append(groupNm)\n",
    "    \n"
   ]
  },
  {
   "cell_type": "code",
   "execution_count": null,
   "metadata": {},
   "outputs": [],
   "source": [
    "# 리스트 개수 파악하기!\n",
    "len(pdNameList2), len(pdPriceList2), len(groupList2)"
   ]
  },
  {
   "cell_type": "code",
   "execution_count": null,
   "metadata": {},
   "outputs": [],
   "source": [
    "gmarket_dic = {'상품명': pdNameList2 , \"가격\": pdPriceList2, '그룹': groupList2}\n",
    "gmarket_df = pd.DataFrame(gmarket_dic)\n",
    "gmarket_df"
   ]
  }
 ],
 "metadata": {
  "kernelspec": {
   "display_name": "Python 3",
   "language": "python",
   "name": "python3"
  },
  "language_info": {
   "name": "python",
   "version": "3.11.1"
  },
  "orig_nbformat": 4,
  "vscode": {
   "interpreter": {
    "hash": "8d29ec00ae0add0190cce9c6bb44028ed64b4cb4a58b5f5c12e34c6897e75494"
   }
  }
 },
 "nbformat": 4,
 "nbformat_minor": 2
}

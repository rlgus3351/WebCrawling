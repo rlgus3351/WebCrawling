{
 "cells": [
  {
   "attachments": {},
   "cell_type": "markdown",
   "metadata": {},
   "source": [
    "### selenium\n",
    "- 동적인 웹 페이지의 컨텐츠를 수집하기 위한 도구\n",
    "- 웹 브라우저를 제어(클립, 입력, 창 전환 등등)하기 위한 도구\n",
    "- 환경구축하기\n",
    "1. webdriver 프로그램 다운 받기 (압축을 푼 파일을 현재 폴더에 옮겨주기)\n",
    "2. !pip install selenium 패키지 설치하기\n"
   ]
  },
  {
   "attachments": {},
   "cell_type": "markdown",
   "metadata": {},
   "source": [
    "#### 웹 크롤링 : 웹페이지에서 원하는 정보를 추출하는 기술\n",
    "1. 구조(HTML)\n",
    "\n",
    "2. CSS 선택자\n",
    "-   아이디 선택자\n",
    "-   클래스 선택자\n",
    "-   태그 선택자\n",
    "-   계층 선택자\n",
    "\n",
    "3. 웹 크롤링을 위한 도구 : requests, BeautifulSoup\n",
    "-   requests : 웹 페이지의 정보를 요청하기 위한 도구\n",
    "-   header 속성 중 user-agent 사용\n",
    "-   BeautifulSoup : HTML문서를 Python 객체로 변환해주는 도구\n",
    "-   select(), select_one() : 도구 이용하여 정보를 가진 요소를 선택\n",
    "\n",
    "4. 페이지를 이동하면서 데이터를 수집할 때 가장 중요한 것?\n",
    "-   URL 주소의 변화 -> 값에 대한 패턴 파악\n",
    "-   EX) 날짜, 페이지 번호 등\n",
    "-   실행 시간에 대한 딜레이를 적절하게 적용해줘야 한다.\n",
    "-   import time 도구 활용 -> time.sleep(초단위)\n",
    "\n",
    "5. 동적인 웹 페이지의 데이터를 수집하기 위한 도구 : selenium\n",
    "-   selenium 환경 구축\n",
    "-   !pip install selenium 패키지 설치\n",
    "-   webdriver 프로그램 설치 \n",
    "-   현재 브라우저의 버전에 맞춰서 설치해야 한다.(동작이 안될 수 있음)\n"
   ]
  },
  {
   "cell_type": "code",
   "execution_count": 1,
   "metadata": {},
   "outputs": [],
   "source": [
    "# !pip install selenium"
   ]
  },
  {
   "cell_type": "code",
   "execution_count": 71,
   "metadata": {},
   "outputs": [],
   "source": [
    "# 테스트 브라우저를 실행하기 위한 도구\n",
    "from selenium import webdriver as wb\n",
    "\n",
    "# 요소를 접근하기 위한 도구\n",
    "from selenium.webdriver.common.by import By\n",
    "\n",
    "# 키보드 값을 제공해주는 도구\n",
    "from selenium.webdriver.common.keys import Keys\n",
    "\n",
    "import time"
   ]
  },
  {
   "cell_type": "code",
   "execution_count": 35,
   "metadata": {},
   "outputs": [],
   "source": [
    "# 1. 웹페이지에 띄울 URL 구조 생성하기\n",
    "\n",
    "url = \"https://www.naver.com\"\n",
    "\n",
    "# 2. webdriver.exe파일을 실행하기 위한 객체를 생성하기\n",
    "driver = wb.Chrome()\n",
    "\n",
    "# 3. 연결\n",
    "driver.get(url)\n",
    "\n",
    "# 4. 브라우저 닫기\n",
    "# 원하는 정보 혹은 동작을 다 했을 때 브라우저 닫기\n",
    "# 브라우저가 종료된 상태에서 코드를 실행하려고 하면 오류가 발생!\n",
    "# driver.close()"
   ]
  },
  {
   "cell_type": "code",
   "execution_count": 48,
   "metadata": {},
   "outputs": [],
   "source": [
    "# 검색창 요소에 접근하기\n",
    "\n",
    "# 요소가 가져오는지 테스트\n",
    "# driver.find_element(by='id', value=\"query\")\n",
    "\n",
    "# 줄바꿈 -> enter키\n",
    "driver.find_element(by='id', value=\"query\").send_keys('점심메뉴추천\\n')\n"
   ]
  },
  {
   "cell_type": "code",
   "execution_count": 61,
   "metadata": {},
   "outputs": [],
   "source": [
    "# 페이지 뒤로 가기\n",
    "driver.back()"
   ]
  },
  {
   "cell_type": "code",
   "execution_count": 155,
   "metadata": {},
   "outputs": [],
   "source": [
    "# 검색창에 키워드 입력한 후 검색 버튼 클릭하기\n",
    "\n",
    "driver.find_element(by='id', value=\"query\").send_keys('점심메뉴추천')\n",
    "\n",
    "# 검색 버튼 요소에 접근하기.\n",
    "# driver.find_element(): 특정 요소를 접근하는 함수\n",
    "driver.find_element('id',\"search_btn\").click()"
   ]
  },
  {
   "cell_type": "code",
   "execution_count": 66,
   "metadata": {},
   "outputs": [],
   "source": [
    "# By도구를 이용해서 검색버튼 요소에 접근하기!\n",
    "driver.find_element(By.CSS_SELECTOR,\"#search_btn\").click()\n"
   ]
  },
  {
   "cell_type": "code",
   "execution_count": 166,
   "metadata": {},
   "outputs": [],
   "source": [
    "# 페이지 내리기\n",
    "driver.find_element(By.CSS_SELECTOR,'body').send_keys(Keys.PAGE_DOWN)\n",
    "# driver.find_element(By.CSS_SELECTOR,'body').send_keys(Keys.ARROW_DOWN)\n",
    "# driver.find_element(By.CSS_SELECTOR,'body').send_keys(Keys.END)"
   ]
  },
  {
   "cell_type": "code",
   "execution_count": 157,
   "metadata": {},
   "outputs": [],
   "source": [
    "# 스크롤 제어 키 : HOME/END, PAGE_UP/DOWN, ARROW_UP/DOWN, SPACE\n",
    "# send_keys() : 입력 태그에 값을 보내거나 페이지 자체에 키보드값을 \n",
    "#               입력할 때 사용하는 함수\n",
    "driver.find_element(By.CSS_SELECTOR,'body').send_keys(Keys.PAGE_UP)"
   ]
  },
  {
   "cell_type": "code",
   "execution_count": null,
   "metadata": {},
   "outputs": [],
   "source": []
  },
  {
   "cell_type": "code",
   "execution_count": null,
   "metadata": {},
   "outputs": [],
   "source": []
  }
 ],
 "metadata": {
  "kernelspec": {
   "display_name": "Python 3",
   "language": "python",
   "name": "python3"
  },
  "language_info": {
   "codemirror_mode": {
    "name": "ipython",
    "version": 3
   },
   "file_extension": ".py",
   "mimetype": "text/x-python",
   "name": "python",
   "nbconvert_exporter": "python",
   "pygments_lexer": "ipython3",
   "version": "3.11.1"
  },
  "orig_nbformat": 4,
  "vscode": {
   "interpreter": {
    "hash": "8d29ec00ae0add0190cce9c6bb44028ed64b4cb4a58b5f5c12e34c6897e75494"
   }
  }
 },
 "nbformat": 4,
 "nbformat_minor": 2
}

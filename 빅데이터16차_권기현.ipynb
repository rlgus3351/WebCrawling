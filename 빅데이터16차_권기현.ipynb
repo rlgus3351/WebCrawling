{
 "cells": [
  {
   "attachments": {},
   "cell_type": "markdown",
   "metadata": {},
   "source": [
    "1.\n",
    "- 1.d\n",
    "- 2.f\n",
    "- 3.c\n",
    "- 4.h\n",
    "\n",
    "2.\n",
    "크롤링의 개념은 인터넷 웹 페이지를 돌고 돌면서 필요한 정보를 수집하는 기법을 말한다\n",
    "필요성은 현재 데이터의 증가량이 기하급수적으로 늘어나고 있으므로, 해당 데이터에 대해서 빠르게 수집을 할 수 있는 장점이 있어 필요한 기술이다\n",
    "\n",
    "3.\n",
    "Beautiful Soup 모듈은 request 모듈로 인해 해당 url에 대한 html문서를 받아와서\n",
    "정적인 html문서 안에서 정보를 찾기 위한 모듈이다.\n",
    "\n",
    "4.\n",
    "-   드라이버를 이용해서 요소를 찾는데 find_element()는 ()해당되는 요소 하나만 찾을 때 사용한다.\n",
    "-   드라이버를 이용해서 요소를 찾는데 find_elements()는 ()해당되는 요소가 같은 형태의 선택자들을 모두 찾을 때 사용한다.\n",
    "\n",
    "5.\n",
    "- html = BeutifulSoup(page, 'lxml')\n",
    "- text_list = html.select(\"div span\")\n",
    "- for i in range(len(text_list)):\n",
    "    print(text_list[i].text)\n"
   ]
  },
  {
   "cell_type": "code",
   "execution_count": 33,
   "metadata": {},
   "outputs": [],
   "source": [
    "#모듈 불러오기\n",
    "\n",
    "from selenium import webdriver as wb\n",
    "from selenium.webdriver.common.keys import Keys\n",
    "from selenium.webdriver.common.by import By\n",
    "import time\n",
    "import pandas as pd\n"
   ]
  },
  {
   "attachments": {},
   "cell_type": "markdown",
   "metadata": {},
   "source": [
    "#### 2번 문제"
   ]
  },
  {
   "cell_type": "code",
   "execution_count": 6,
   "metadata": {},
   "outputs": [],
   "source": [
    "url = \"https://www.naver.com\"\n",
    "driver = wb.Chrome()\n",
    "driver.get(url)\n",
    "driver.find_element(By.ID, \"query\").send_keys(\"크롤링\\n\")\n",
    "time.sleep(10)\n",
    "driver.close()"
   ]
  },
  {
   "attachments": {},
   "cell_type": "markdown",
   "metadata": {},
   "source": [
    "#### 3번 문제"
   ]
  },
  {
   "cell_type": "code",
   "execution_count": 26,
   "metadata": {},
   "outputs": [],
   "source": [
    "product_title_list = []\n",
    "product_price_list =[]"
   ]
  },
  {
   "cell_type": "code",
   "execution_count": 27,
   "metadata": {},
   "outputs": [],
   "source": [
    "url = \"https://corners.gmarket.co.kr/bestsellers\"\n",
    "driver = wb.Chrome()\n",
    "driver.get(url)\n",
    "for i in range(1,21):\n",
    "    product_title_list.append(driver.find_element(By.CSS_SELECTOR, f\"#itemidx{i} > a\").text)\n",
    "    product_price_list.append(driver.find_element(By.CSS_SELECTOR, f\"#itemidx{i} > div.item_price > div.s-price > strong > span\").text)\n",
    "\n",
    "time.sleep(10)\n",
    "driver.close()"
   ]
  },
  {
   "cell_type": "code",
   "execution_count": 32,
   "metadata": {},
   "outputs": [],
   "source": [
    "dic = {\"상품명\": product_title_list, \"가격\":product_price_list}"
   ]
  },
  {
   "cell_type": "code",
   "execution_count": 34,
   "metadata": {},
   "outputs": [
    {
     "data": {
      "text/html": [
       "<div>\n",
       "<style scoped>\n",
       "    .dataframe tbody tr th:only-of-type {\n",
       "        vertical-align: middle;\n",
       "    }\n",
       "\n",
       "    .dataframe tbody tr th {\n",
       "        vertical-align: top;\n",
       "    }\n",
       "\n",
       "    .dataframe thead th {\n",
       "        text-align: right;\n",
       "    }\n",
       "</style>\n",
       "<table border=\"1\" class=\"dataframe\">\n",
       "  <thead>\n",
       "    <tr style=\"text-align: right;\">\n",
       "      <th></th>\n",
       "      <th>상품명</th>\n",
       "      <th>가격</th>\n",
       "    </tr>\n",
       "  </thead>\n",
       "  <tbody>\n",
       "    <tr>\n",
       "      <th>0</th>\n",
       "      <td>[블랙야크키즈](신세계강남점)23년 SS 미리 준비하는 쿨세트 2종 택1 [BKO홀...</td>\n",
       "      <td>28,000원</td>\n",
       "    </tr>\n",
       "    <tr>\n",
       "      <th>1</th>\n",
       "      <td>메이크업 화장품 파우치/미니백/이너백/여행용</td>\n",
       "      <td>7,900원</td>\n",
       "    </tr>\n",
       "    <tr>\n",
       "      <th>2</th>\n",
       "      <td>[네파키즈](신세계강남점)[네파키즈] 델타 7부 폴리트레이닝세트 KID5910</td>\n",
       "      <td>27,600원</td>\n",
       "    </tr>\n",
       "    <tr>\n",
       "      <th>3</th>\n",
       "      <td>HACCP인증 국산100% 전라도 파김치 1kg(당일생산)</td>\n",
       "      <td>12,500원</td>\n",
       "    </tr>\n",
       "    <tr>\n",
       "      <th>4</th>\n",
       "      <td>[네추럴블라썸](쿠폰적용가 25110원~)네추럴블라썸 울트라슬림 비건기저귀 4팩 (...</td>\n",
       "      <td>32,900원</td>\n",
       "    </tr>\n",
       "    <tr>\n",
       "      <th>5</th>\n",
       "      <td>[버블트리]20% 주니어 여아 봄신상 스쿨룩 상하세트 팬츠 맨투맨 원피스 레깅스 데...</td>\n",
       "      <td>15,000원</td>\n",
       "    </tr>\n",
       "    <tr>\n",
       "      <th>6</th>\n",
       "      <td>[코디](쿠폰적용가28400) 블루 3겹 데코 27m 30롤 3팩</td>\n",
       "      <td>36,200원</td>\n",
       "    </tr>\n",
       "    <tr>\n",
       "      <th>7</th>\n",
       "      <td>제이준 세트 - 진정보습 물광 마스크팩 50매</td>\n",
       "      <td>23,900원</td>\n",
       "    </tr>\n",
       "    <tr>\n",
       "      <th>8</th>\n",
       "      <td>제주 천혜향 새콤달콤 4kg 중소과 (가정용 포장)</td>\n",
       "      <td>24,900원</td>\n",
       "    </tr>\n",
       "    <tr>\n",
       "      <th>9</th>\n",
       "      <td>해남 못난이 꿀고구마 10kg(2022수확)</td>\n",
       "      <td>10,680원</td>\n",
       "    </tr>\n",
       "    <tr>\n",
       "      <th>10</th>\n",
       "      <td>하이마블 내맘대로 골라먹는 구이용 프리미엄 소고기 모둠 미국산 소고기</td>\n",
       "      <td>29,900원</td>\n",
       "    </tr>\n",
       "    <tr>\n",
       "      <th>11</th>\n",
       "      <td>농협우리쌀20kg</td>\n",
       "      <td>39,840원</td>\n",
       "    </tr>\n",
       "    <tr>\n",
       "      <th>12</th>\n",
       "      <td>[스카이패션][무료배송 3장드림] 순면 베이직 티셔츠</td>\n",
       "      <td>7,950원</td>\n",
       "    </tr>\n",
       "    <tr>\n",
       "      <th>13</th>\n",
       "      <td>[키즈꼬모]아동상하복세트 2023봄신상품 봄맞이 할인전 아동복 등원복</td>\n",
       "      <td>12,400원</td>\n",
       "    </tr>\n",
       "    <tr>\n",
       "      <th>14</th>\n",
       "      <td>[에스티코]STCO 넥타이 9900원 균일가 50종 모음</td>\n",
       "      <td>9,900원</td>\n",
       "    </tr>\n",
       "    <tr>\n",
       "      <th>15</th>\n",
       "      <td>김규흔 한과 견과류바 에너지바 영양바 하루한끼 영양바 40개입</td>\n",
       "      <td>28,900원</td>\n",
       "    </tr>\n",
       "    <tr>\n",
       "      <th>16</th>\n",
       "      <td>모짜치즈떡 1kg +1kg (쿠폰가 9980원)</td>\n",
       "      <td>11,250원</td>\n",
       "    </tr>\n",
       "    <tr>\n",
       "      <th>17</th>\n",
       "      <td>리치부어스트 1.5kg 1개</td>\n",
       "      <td>21,500원</td>\n",
       "    </tr>\n",
       "    <tr>\n",
       "      <th>18</th>\n",
       "      <td>[베지톨로지]베지톨로지 비니페린 워터 에센스 150ML x 2개 / 마스크팩 1매 ...</td>\n",
       "      <td>21,000원</td>\n",
       "    </tr>\n",
       "    <tr>\n",
       "      <th>19</th>\n",
       "      <td>[구글플레이]기프트코드 10만원 / 구글 기프트카드</td>\n",
       "      <td>95,000원</td>\n",
       "    </tr>\n",
       "  </tbody>\n",
       "</table>\n",
       "</div>"
      ],
      "text/plain": [
       "                                                  상품명       가격\n",
       "0   [블랙야크키즈](신세계강남점)23년 SS 미리 준비하는 쿨세트 2종 택1 [BKO홀...  28,000원\n",
       "1                            메이크업 화장품 파우치/미니백/이너백/여행용   7,900원\n",
       "2         [네파키즈](신세계강남점)[네파키즈] 델타 7부 폴리트레이닝세트 KID5910  27,600원\n",
       "3                    HACCP인증 국산100% 전라도 파김치 1kg(당일생산)  12,500원\n",
       "4   [네추럴블라썸](쿠폰적용가 25110원~)네추럴블라썸 울트라슬림 비건기저귀 4팩 (...  32,900원\n",
       "5   [버블트리]20% 주니어 여아 봄신상 스쿨룩 상하세트 팬츠 맨투맨 원피스 레깅스 데...  15,000원\n",
       "6                [코디](쿠폰적용가28400) 블루 3겹 데코 27m 30롤 3팩  36,200원\n",
       "7                           제이준 세트 - 진정보습 물광 마스크팩 50매  23,900원\n",
       "8                        제주 천혜향 새콤달콤 4kg 중소과 (가정용 포장)  24,900원\n",
       "9                            해남 못난이 꿀고구마 10kg(2022수확)  10,680원\n",
       "10             하이마블 내맘대로 골라먹는 구이용 프리미엄 소고기 모둠 미국산 소고기  29,900원\n",
       "11                                          농협우리쌀20kg  39,840원\n",
       "12                      [스카이패션][무료배송 3장드림] 순면 베이직 티셔츠   7,950원\n",
       "13             [키즈꼬모]아동상하복세트 2023봄신상품 봄맞이 할인전 아동복 등원복  12,400원\n",
       "14                    [에스티코]STCO 넥타이 9900원 균일가 50종 모음   9,900원\n",
       "15                 김규흔 한과 견과류바 에너지바 영양바 하루한끼 영양바 40개입  28,900원\n",
       "16                         모짜치즈떡 1kg +1kg (쿠폰가 9980원)  11,250원\n",
       "17                                    리치부어스트 1.5kg 1개  21,500원\n",
       "18  [베지톨로지]베지톨로지 비니페린 워터 에센스 150ML x 2개 / 마스크팩 1매 ...  21,000원\n",
       "19                       [구글플레이]기프트코드 10만원 / 구글 기프트카드  95,000원"
      ]
     },
     "execution_count": 34,
     "metadata": {},
     "output_type": "execute_result"
    }
   ],
   "source": [
    "gmarketDf = pd.DataFrame(dic)\n",
    "gmarketDf"
   ]
  },
  {
   "attachments": {},
   "cell_type": "markdown",
   "metadata": {},
   "source": [
    "#### 4-1번 문제"
   ]
  },
  {
   "cell_type": "code",
   "execution_count": 408,
   "metadata": {},
   "outputs": [],
   "source": [
    "import requests\n",
    "from bs4 import BeautifulSoup as bs"
   ]
  },
  {
   "cell_type": "code",
   "execution_count": 409,
   "metadata": {},
   "outputs": [],
   "source": [
    "h = {\n",
    "    \"user-agent\" :\"Mozilla/5.0 (Windows NT 10.0; Win64; x64) AppleWebKit/537.36 (KHTML, like Gecko) Chrome/110.0.0.0 Safari/537.36\"\n",
    "}"
   ]
  },
  {
   "cell_type": "code",
   "execution_count": 424,
   "metadata": {},
   "outputs": [],
   "source": [
    "melon_url = 'https://www.melon.com/chart/index.htm'\n",
    "\n",
    "res = requests.get(melon_url, headers = h)\n"
   ]
  },
  {
   "cell_type": "code",
   "execution_count": 425,
   "metadata": {},
   "outputs": [],
   "source": [
    "soup = bs(res.text, 'lxml')\n",
    "test = soup.select('.ellipsis.rank01')"
   ]
  },
  {
   "cell_type": "code",
   "execution_count": 426,
   "metadata": {},
   "outputs": [],
   "source": [
    "temp = []\n",
    "for song in test:\n",
    "    temp.append(song.text.strip())"
   ]
  },
  {
   "cell_type": "code",
   "execution_count": 427,
   "metadata": {},
   "outputs": [
    {
     "data": {
      "text/plain": [
       "100"
      ]
     },
     "execution_count": 427,
     "metadata": {},
     "output_type": "execute_result"
    }
   ],
   "source": [
    "song = soup.select('.ellipsis.rank01')\n",
    "len(song)"
   ]
  },
  {
   "cell_type": "code",
   "execution_count": 428,
   "metadata": {},
   "outputs": [
    {
     "data": {
      "text/plain": [
       "[<span class=\"checkEllipsis\" style=\"display:none\"><a href=\"javascript:melon.link.goArtistDetail('3114174');\" title=\"NewJeans - 페이지 이동\">NewJeans</a></span>,\n",
       " <span class=\"checkEllipsis\" style=\"display:none\"><a href=\"javascript:melon.link.goArtistDetail('3114174');\" title=\"NewJeans - 페이지 이동\">NewJeans</a></span>,\n",
       " <span class=\"checkEllipsis\" style=\"display:none\"><a href=\"javascript:melon.link.goArtistDetail('3114174');\" title=\"NewJeans - 페이지 이동\">NewJeans</a></span>,\n",
       " <span class=\"checkEllipsis\" style=\"display:none\"><a href=\"javascript:melon.link.goArtistDetail('2112233');\" title=\"부석순 (SEVENTEEN) - 페이지 이동\">부석순 (SEVENTEEN)</a></span>,\n",
       " <span class=\"checkEllipsis\" style=\"display:none\"><a href=\"javascript:melon.link.goArtistDetail('203912');\" title=\"윤하 (YOUNHA) - 페이지 이동\">윤하 (YOUNHA)</a></span>,\n",
       " <span class=\"checkEllipsis\" style=\"display:none\"><a href=\"javascript:melon.link.goArtistDetail('2899290');\" title=\"STAYC(스테이씨) - 페이지 이동\">STAYC(스테이씨)</a></span>,\n",
       " <span class=\"checkEllipsis\" style=\"display:none\"><a href=\"javascript:melon.link.goArtistDetail('247621');\" title=\"태양 - 페이지 이동\">태양</a></span>,\n",
       " <span class=\"checkEllipsis\" style=\"display:none\"><a href=\"javascript:melon.link.goArtistDetail('3114174');\" title=\"NewJeans - 페이지 이동\">NewJeans</a></span>,\n",
       " <span class=\"checkEllipsis\" style=\"display:none\"><a href=\"javascript:melon.link.goArtistDetail('838654');\" title=\"Charlie Puth - 페이지 이동\">Charlie Puth</a></span>,\n",
       " <span class=\"checkEllipsis\" style=\"display:none\"><a href=\"javascript:melon.link.goArtistDetail('3092950');\" title=\"LE SSERAFIM (르세라핌) - 페이지 이동\">LE SSERAFIM (르세라핌)</a></span>,\n",
       " <span class=\"checkEllipsis\" style=\"display:none\"><a href=\"javascript:melon.link.goArtistDetail('994944');\" title=\"임영웅 - 페이지 이동\">임영웅</a></span>,\n",
       " <span class=\"checkEllipsis\" style=\"display:none\"><a href=\"javascript:melon.link.goArtistDetail('227595');\" title=\"지아 - 페이지 이동\">지아</a></span>,\n",
       " <span class=\"checkEllipsis\" style=\"display:none\"><a href=\"javascript:melon.link.goArtistDetail('3055146');\" title=\"IVE (아이브) - 페이지 이동\">IVE (아이브)</a></span>,\n",
       " <span class=\"checkEllipsis\" style=\"display:none\"><a href=\"javascript:melon.link.goArtistDetail('994944');\" title=\"임영웅 - 페이지 이동\">임영웅</a></span>,\n",
       " <span class=\"checkEllipsis\" style=\"display:none\"><a href=\"javascript:melon.link.goArtistDetail('994944');\" title=\"임영웅 - 페이지 이동\">임영웅</a></span>,\n",
       " <span class=\"checkEllipsis\" style=\"display:none\"><a href=\"javascript:melon.link.goArtistDetail('3055146');\" title=\"IVE (아이브) - 페이지 이동\">IVE (아이브)</a></span>,\n",
       " <span class=\"checkEllipsis\" style=\"display:none\"><a href=\"javascript:melon.link.goArtistDetail('1066419');\" title=\"NCT DREAM - 페이지 이동\">NCT DREAM</a></span>,\n",
       " <span class=\"checkEllipsis\" style=\"display:none\"><a href=\"javascript:melon.link.goArtistDetail('524801');\" title=\"DK(디셈버) - 페이지 이동\">DK(디셈버)</a></span>,\n",
       " <span class=\"checkEllipsis\" style=\"display:none\"><a href=\"javascript:melon.link.goArtistDetail('994944');\" title=\"임영웅 - 페이지 이동\">임영웅</a></span>,\n",
       " <span class=\"checkEllipsis\" style=\"display:none\"><a href=\"javascript:melon.link.goArtistDetail('839732');\" title=\"멜로망스 - 페이지 이동\">멜로망스</a></span>,\n",
       " <span class=\"checkEllipsis\" style=\"display:none\"><a href=\"javascript:melon.link.goArtistDetail('994944');\" title=\"임영웅 - 페이지 이동\">임영웅</a></span>,\n",
       " <span class=\"checkEllipsis\" style=\"display:none\"><a href=\"javascript:melon.link.goArtistDetail('2632253');\" title=\"투모로우바이투게더 - 페이지 이동\">투모로우바이투게더</a></span>,\n",
       " <span class=\"checkEllipsis\" style=\"display:none\"><a href=\"javascript:melon.link.goArtistDetail('994944');\" title=\"임영웅 - 페이지 이동\">임영웅</a></span>,\n",
       " <span class=\"checkEllipsis\" style=\"display:none\"><a href=\"javascript:melon.link.goArtistDetail('994944');\" title=\"임영웅 - 페이지 이동\">임영웅</a></span>,\n",
       " <span class=\"checkEllipsis\" style=\"display:none\"><a href=\"javascript:melon.link.goArtistDetail('2137482');\" title=\"(여자)아이들 - 페이지 이동\">(여자)아이들</a></span>,\n",
       " <span class=\"checkEllipsis\" style=\"display:none\"><a href=\"javascript:melon.link.goArtistDetail('994944');\" title=\"임영웅 - 페이지 이동\">임영웅</a></span>,\n",
       " <span class=\"checkEllipsis\" style=\"display:none\"><a href=\"javascript:melon.link.goArtistDetail('3305');\" title=\"성시경 - 페이지 이동\">성시경</a></span>,\n",
       " <span class=\"checkEllipsis\" style=\"display:none\"><a href=\"javascript:melon.link.goArtistDetail('674710');\" title=\"Crush - 페이지 이동\">Crush</a></span>,\n",
       " <span class=\"checkEllipsis\" style=\"display:none\"><a href=\"javascript:melon.link.goArtistDetail('2899290');\" title=\"STAYC(스테이씨) - 페이지 이동\">STAYC(스테이씨)</a></span>,\n",
       " <span class=\"checkEllipsis\" style=\"display:none\"><a href=\"javascript:melon.link.goArtistDetail('994944');\" title=\"임영웅 - 페이지 이동\">임영웅</a></span>,\n",
       " <span class=\"checkEllipsis\" style=\"display:none\"><a href=\"javascript:melon.link.goArtistDetail('51893');\" title=\"테이 - 페이지 이동\">테이</a></span>,\n",
       " <span class=\"checkEllipsis\" style=\"display:none\"><a href=\"javascript:melon.link.goArtistDetail('994944');\" title=\"임영웅 - 페이지 이동\">임영웅</a></span>,\n",
       " <span class=\"checkEllipsis\" style=\"display:none\"><a href=\"javascript:melon.link.goArtistDetail('3114174');\" title=\"NewJeans - 페이지 이동\">NewJeans</a></span>,\n",
       " <span class=\"checkEllipsis\" style=\"display:none\"><a href=\"javascript:melon.link.goArtistDetail('602056');\" title=\"지코 (ZICO) - 페이지 이동\">지코 (ZICO)</a></span>,\n",
       " <span class=\"checkEllipsis\" style=\"display:none\"><a href=\"javascript:melon.link.goArtistDetail('2636153');\" title=\"이영지 - 페이지 이동\">이영지</a></span>,\n",
       " <span class=\"checkEllipsis\" style=\"display:none\"><a href=\"javascript:melon.link.goArtistDetail('994944');\" title=\"임영웅 - 페이지 이동\">임영웅</a></span>,\n",
       " <span class=\"checkEllipsis\" style=\"display:none\"><a href=\"javascript:melon.link.goArtistDetail('994944');\" title=\"임영웅 - 페이지 이동\">임영웅</a></span>,\n",
       " <span class=\"checkEllipsis\" style=\"display:none\"><a href=\"javascript:melon.link.goArtistDetail('994944');\" title=\"임영웅 - 페이지 이동\">임영웅</a></span>,\n",
       " <span class=\"checkEllipsis\" style=\"display:none\"><a href=\"javascript:melon.link.goArtistDetail('1024489');\" title=\"#안녕 - 페이지 이동\">#안녕</a></span>,\n",
       " <span class=\"checkEllipsis\" style=\"display:none\"><a href=\"javascript:melon.link.goArtistDetail('838654');\" title=\"Charlie Puth - 페이지 이동\">Charlie Puth</a></span>,\n",
       " <span class=\"checkEllipsis\" style=\"display:none\"><a href=\"javascript:melon.link.goArtistDetail('718042');\" title=\"Sam Smith - 페이지 이동\">Sam Smith</a>, <a href=\"javascript:melon.link.goArtistDetail('2559079');\" title=\"Kim Petras - 페이지 이동\">Kim Petras</a></span>,\n",
       " <span class=\"checkEllipsis\" style=\"display:none\"><a href=\"javascript:melon.link.goArtistDetail('838654');\" title=\"Charlie Puth - 페이지 이동\">Charlie Puth</a></span>,\n",
       " <span class=\"checkEllipsis\" style=\"display:none\"><a href=\"javascript:melon.link.goArtistDetail('839736');\" title=\"김민석 (멜로망스) - 페이지 이동\">김민석 (멜로망스)</a></span>,\n",
       " <span class=\"checkEllipsis\" style=\"display:none\"><a href=\"javascript:melon.link.goArtistDetail('725987');\" title=\"정국 - 페이지 이동\">정국</a>, <a href=\"javascript:melon.link.goArtistDetail('672375');\" title=\"방탄소년단 - 페이지 이동\">방탄소년단</a></span>,\n",
       " <span class=\"checkEllipsis\" style=\"display:none\"><a href=\"javascript:melon.link.goArtistDetail('995169');\" title=\"BLACKPINK - 페이지 이동\">BLACKPINK</a></span>,\n",
       " <span class=\"checkEllipsis\" style=\"display:none\"><a href=\"javascript:melon.link.goArtistDetail('672375');\" title=\"방탄소년단 - 페이지 이동\">방탄소년단</a></span>,\n",
       " <span class=\"checkEllipsis\" style=\"display:none\"><a href=\"javascript:melon.link.goArtistDetail('2740042');\" title=\"신예영 - 페이지 이동\">신예영</a></span>,\n",
       " <span class=\"checkEllipsis\" style=\"display:none\"><a href=\"javascript:melon.link.goArtistDetail('2743730');\" title=\"The Kid LAROI - 페이지 이동\">The Kid LAROI</a>, <a href=\"javascript:melon.link.goArtistDetail('420621');\" title=\"Justin Bieber - 페이지 이동\">Justin Bieber</a></span>,\n",
       " <span class=\"checkEllipsis\" style=\"display:none\"><a href=\"javascript:melon.link.goArtistDetail('995169');\" title=\"BLACKPINK - 페이지 이동\">BLACKPINK</a></span>,\n",
       " <span class=\"checkEllipsis\" style=\"display:none\"><a href=\"javascript:melon.link.goArtistDetail('2740042');\" title=\"신예영 - 페이지 이동\">신예영</a></span>,\n",
       " <span class=\"checkEllipsis\" style=\"display:none\"><a href=\"javascript:melon.link.goArtistDetail('994944');\" title=\"임영웅 - 페이지 이동\">임영웅</a></span>,\n",
       " <span class=\"checkEllipsis\" style=\"display:none\"><a href=\"javascript:melon.link.goArtistDetail('672375');\" title=\"방탄소년단 - 페이지 이동\">방탄소년단</a></span>,\n",
       " <span class=\"checkEllipsis\" style=\"display:none\"><a href=\"javascript:melon.link.goArtistDetail('2137482');\" title=\"(여자)아이들 - 페이지 이동\">(여자)아이들</a></span>,\n",
       " <span class=\"checkEllipsis\" style=\"display:none\"><a href=\"javascript:melon.link.goArtistDetail('683631');\" title=\"주호 - 페이지 이동\">주호</a></span>,\n",
       " <span class=\"checkEllipsis\" style=\"display:none\"><a href=\"javascript:melon.link.goArtistDetail('673033');\" title=\"우디 (Woody) - 페이지 이동\">우디 (Woody)</a></span>,\n",
       " <span class=\"checkEllipsis\" style=\"display:none\"><a href=\"javascript:melon.link.goArtistDetail('3092950');\" title=\"LE SSERAFIM (르세라핌) - 페이지 이동\">LE SSERAFIM (르세라핌)</a></span>,\n",
       " <span class=\"checkEllipsis\" style=\"display:none\"><a href=\"javascript:melon.link.goArtistDetail('100176');\" title=\"포맨 (4MEN) - 페이지 이동\">포맨 (4MEN)</a></span>,\n",
       " <span class=\"checkEllipsis\" style=\"display:none\"><a href=\"javascript:melon.link.goArtistDetail('3865');\" title=\"싸이 (PSY) - 페이지 이동\">싸이 (PSY)</a></span>,\n",
       " <span class=\"checkEllipsis\" style=\"display:none\"><a href=\"javascript:melon.link.goArtistDetail('3064111');\" title=\"H1-KEY (하이키) - 페이지 이동\">H1-KEY (하이키)</a></span>,\n",
       " <span class=\"checkEllipsis\" style=\"display:none\"><a href=\"javascript:melon.link.goArtistDetail('722098');\" title=\"송하예 - 페이지 이동\">송하예</a></span>,\n",
       " <span class=\"checkEllipsis\" style=\"display:none\"><a href=\"javascript:melon.link.goArtistDetail('3110856');\" title=\"WSG워너비 (가야G) - 페이지 이동\">WSG워너비 (가야G)</a></span>,\n",
       " <span class=\"checkEllipsis\" style=\"display:none\"><a href=\"javascript:melon.link.goArtistDetail('468244');\" title=\"10CM - 페이지 이동\">10CM</a></span>,\n",
       " <span class=\"checkEllipsis\" style=\"display:none\"><a href=\"javascript:melon.link.goArtistDetail('672375');\" title=\"방탄소년단 - 페이지 이동\">방탄소년단</a></span>,\n",
       " <span class=\"checkEllipsis\" style=\"display:none\"><a href=\"javascript:melon.link.goArtistDetail('2863470');\" title=\"경서예지 - 페이지 이동\">경서예지</a>, <a href=\"javascript:melon.link.goArtistDetail('2739011');\" title=\"전건호 - 페이지 이동\">전건호</a></span>,\n",
       " <span class=\"checkEllipsis\" style=\"display:none\"><a href=\"javascript:melon.link.goArtistDetail('236797');\" title=\"태연 (TAEYEON) - 페이지 이동\">태연 (TAEYEON)</a></span>,\n",
       " <span class=\"checkEllipsis\" style=\"display:none\"><a href=\"javascript:melon.link.goArtistDetail('203912');\" title=\"윤하 (YOUNHA) - 페이지 이동\">윤하 (YOUNHA)</a></span>,\n",
       " <span class=\"checkEllipsis\" style=\"display:none\"><a href=\"javascript:melon.link.goArtistDetail('2744750');\" title=\"BIG Naughty (서동현) - 페이지 이동\">BIG Naughty (서동현)</a></span>,\n",
       " <span class=\"checkEllipsis\" style=\"display:none\"><a href=\"javascript:melon.link.goArtistDetail('2645970');\" title=\"최유리 - 페이지 이동\">최유리</a></span>,\n",
       " <span class=\"checkEllipsis\" style=\"display:none\"><a href=\"javascript:melon.link.goArtistDetail('683631');\" title=\"주호 - 페이지 이동\">주호</a></span>,\n",
       " <span class=\"checkEllipsis\" style=\"display:none\"><a href=\"javascript:melon.link.goArtistDetail('3055146');\" title=\"IVE (아이브) - 페이지 이동\">IVE (아이브)</a></span>,\n",
       " <span class=\"checkEllipsis\" style=\"display:none\"><a href=\"javascript:melon.link.goArtistDetail('752425');\" title=\"폴킴 - 페이지 이동\">폴킴</a></span>,\n",
       " <span class=\"checkEllipsis\" style=\"display:none\"><a href=\"javascript:melon.link.goArtistDetail('2112233');\" title=\"부석순 (SEVENTEEN) - 페이지 이동\">부석순 (SEVENTEEN)</a></span>,\n",
       " <span class=\"checkEllipsis\" style=\"display:none\"><a href=\"javascript:melon.link.goArtistDetail('994005');\" title=\"경서 - 페이지 이동\">경서</a></span>,\n",
       " <span class=\"checkEllipsis\" style=\"display:none\"><a href=\"javascript:melon.link.goArtistDetail('468244');\" title=\"10CM - 페이지 이동\">10CM</a>, <a href=\"javascript:melon.link.goArtistDetail('2744750');\" title=\"BIG Naughty (서동현) - 페이지 이동\">BIG Naughty (서동현)</a></span>,\n",
       " <span class=\"checkEllipsis\" style=\"display:none\"><a href=\"javascript:melon.link.goArtistDetail('786499');\" title=\"저스디스 (JUSTHIS) - 페이지 이동\">저스디스 (JUSTHIS)</a>, <a href=\"javascript:melon.link.goArtistDetail('633071');\" title=\"R.Tee - 페이지 이동\">R.Tee</a>, <a href=\"javascript:melon.link.goArtistDetail('789943');\" title=\"던말릭 (DON MALIK) - 페이지 이동\">던말릭 (DON MALIK)</a>, <a href=\"javascript:melon.link.goArtistDetail('2190397');\" title=\"허성현 (Huh) - 페이지 이동\">허성현 (Huh)</a>, <a href=\"javascript:melon.link.goArtistDetail('2741140');\" title=\"KHAN - 페이지 이동\">KHAN</a>, <a href=\"javascript:melon.link.goArtistDetail('774027');\" title=\"맥대디 (Mckdaddy) - 페이지 이동\">맥대디 (Mckdaddy)</a>, <a href=\"javascript:melon.link.goArtistDetail('1628539');\" title=\"로스 (Los) - 페이지 이동\">로스 (Los)</a></span>,\n",
       " <span class=\"checkEllipsis\" style=\"display:none\"><a href=\"javascript:melon.link.goArtistDetail('2758756');\" title=\"BE'O (비오) - 페이지 이동\">BE'O (비오)</a></span>,\n",
       " <span class=\"checkEllipsis\" style=\"display:none\"><a href=\"javascript:melon.link.goArtistDetail('471741');\" title=\"임한별 - 페이지 이동\">임한별</a></span>,\n",
       " <span class=\"checkEllipsis\" style=\"display:none\"><a href=\"javascript:melon.link.goArtistDetail('2632253');\" title=\"투모로우바이투게더 - 페이지 이동\">투모로우바이투게더</a></span>,\n",
       " <span class=\"checkEllipsis\" style=\"display:none\"><a href=\"javascript:melon.link.goArtistDetail('420621');\" title=\"Justin Bieber - 페이지 이동\">Justin Bieber</a></span>,\n",
       " <span class=\"checkEllipsis\" style=\"display:none\"><a href=\"javascript:melon.link.goArtistDetail('2758756');\" title=\"BE'O (비오) - 페이지 이동\">BE'O (비오)</a></span>,\n",
       " <span class=\"checkEllipsis\" style=\"display:none\"><a href=\"javascript:melon.link.goArtistDetail('994005');\" title=\"경서 - 페이지 이동\">경서</a></span>,\n",
       " <span class=\"checkEllipsis\" style=\"display:none\"><a href=\"javascript:melon.link.goArtistDetail('718655');\" title=\"이예준 - 페이지 이동\">이예준</a></span>,\n",
       " <span class=\"checkEllipsis\" style=\"display:none\"><a href=\"javascript:melon.link.goArtistDetail('3110857');\" title=\"WSG워너비(4FIRE) - 페이지 이동\">WSG워너비(4FIRE)</a></span>,\n",
       " <span class=\"checkEllipsis\" style=\"display:none\"><a href=\"javascript:melon.link.goArtistDetail('198094');\" title=\"BIGBANG (빅뱅) - 페이지 이동\">BIGBANG (빅뱅)</a></span>,\n",
       " <span class=\"checkEllipsis\" style=\"display:none\"><a href=\"javascript:melon.link.goArtistDetail('222128');\" title=\"카라 - 페이지 이동\">카라</a></span>,\n",
       " <span class=\"checkEllipsis\" style=\"display:none\"><a href=\"javascript:melon.link.goArtistDetail('720018');\" title=\"김호중 - 페이지 이동\">김호중</a></span>,\n",
       " <span class=\"checkEllipsis\" style=\"display:none\"><a href=\"javascript:melon.link.goArtistDetail('3060228');\" title=\"imase - 페이지 이동\">imase</a></span>,\n",
       " <span class=\"checkEllipsis\" style=\"display:none\"><a href=\"javascript:melon.link.goArtistDetail('672375');\" title=\"방탄소년단 - 페이지 이동\">방탄소년단</a></span>,\n",
       " <span class=\"checkEllipsis\" style=\"display:none\"><a href=\"javascript:melon.link.goArtistDetail('839736');\" title=\"김민석 (멜로망스) - 페이지 이동\">김민석 (멜로망스)</a></span>,\n",
       " <span class=\"checkEllipsis\" style=\"display:none\"><a href=\"javascript:melon.link.goArtistDetail('2744750');\" title=\"BIG Naughty (서동현) - 페이지 이동\">BIG Naughty (서동현)</a></span>,\n",
       " <span class=\"checkEllipsis\" style=\"display:none\"><a href=\"javascript:melon.link.goArtistDetail('2113114');\" title=\"백아 - 페이지 이동\">백아</a></span>,\n",
       " <span class=\"checkEllipsis\" style=\"display:none\"><a href=\"javascript:melon.link.goArtistDetail('827322');\" title=\"김승민 - 페이지 이동\">김승민</a></span>,\n",
       " <span class=\"checkEllipsis\" style=\"display:none\"><a href=\"javascript:melon.link.goArtistDetail('725984');\" title=\"j-hope - 페이지 이동\">j-hope</a>, <a href=\"javascript:melon.link.goArtistDetail('552102');\" title=\"J. Cole - 페이지 이동\">J. Cole</a></span>,\n",
       " <span class=\"checkEllipsis\" style=\"display:none\"><a href=\"javascript:melon.link.goArtistDetail('720018');\" title=\"김호중 - 페이지 이동\">김호중</a>, <a href=\"javascript:melon.link.goArtistDetail('1701869');\" title=\"송가인 - 페이지 이동\">송가인</a></span>,\n",
       " <span class=\"checkEllipsis\" style=\"display:none\"><a href=\"javascript:melon.link.goArtistDetail('2744750');\" title=\"BIG Naughty (서동현) - 페이지 이동\">BIG Naughty (서동현)</a></span>,\n",
       " <span class=\"checkEllipsis\" style=\"display:none\"><a href=\"javascript:melon.link.goArtistDetail('2632253');\" title=\"투모로우바이투게더 - 페이지 이동\">투모로우바이투게더</a></span>,\n",
       " <span class=\"checkEllipsis\" style=\"display:none\"><a href=\"javascript:melon.link.goArtistDetail('838654');\" title=\"Charlie Puth - 페이지 이동\">Charlie Puth</a>, <a href=\"javascript:melon.link.goArtistDetail('725987');\" title=\"정국 - 페이지 이동\">정국</a>, <a href=\"javascript:melon.link.goArtistDetail('672375');\" title=\"방탄소년단 - 페이지 이동\">방탄소년단</a></span>,\n",
       " <span class=\"checkEllipsis\" style=\"display:none\"><a href=\"javascript:melon.link.goArtistDetail('720018');\" title=\"김호중 - 페이지 이동\">김호중</a></span>,\n",
       " <span class=\"checkEllipsis\" style=\"display:none\"><a href=\"javascript:melon.link.goArtistDetail('861436');\" title=\"세븐틴 - 페이지 이동\">세븐틴</a></span>,\n",
       " <span class=\"checkEllipsis\" style=\"display:none\"><a href=\"javascript:melon.link.goArtistDetail('991413');\" title=\"NCT 127 - 페이지 이동\">NCT 127</a></span>]"
      ]
     },
     "execution_count": 428,
     "metadata": {},
     "output_type": "execute_result"
    }
   ],
   "source": [
    "singer = soup.select('.checkEllipsis')\n",
    "singer"
   ]
  },
  {
   "cell_type": "code",
   "execution_count": 429,
   "metadata": {},
   "outputs": [],
   "source": [
    "# '노래' 수집하기\n",
    "song_list = []\n",
    "\n",
    "for s in song:\n",
    "    song_list.append(s.text.strip())"
   ]
  },
  {
   "cell_type": "code",
   "execution_count": 430,
   "metadata": {},
   "outputs": [],
   "source": [
    "# '가수' 수집하기\n",
    "singer_list = []\n",
    "for x in singer:\n",
    "    singer_list.append(x.text)"
   ]
  },
  {
   "cell_type": "code",
   "execution_count": 431,
   "metadata": {},
   "outputs": [],
   "source": [
    "song_list2 = []\n",
    "\n",
    "for s in song:\n",
    "    song_list2.append(s.text.strip())\n",
    "    \n",
    "singer_list2 = []\n",
    "for x in singer:\n",
    "    singer_list2.append(x.text.strip())"
   ]
  },
  {
   "cell_type": "code",
   "execution_count": 436,
   "metadata": {},
   "outputs": [],
   "source": [
    "rank_list=[]\n",
    "for i in range(1,101):\n",
    "    rank_list.append(f\"{i}위\")"
   ]
  },
  {
   "cell_type": "code",
   "execution_count": 437,
   "metadata": {},
   "outputs": [
    {
     "data": {
      "text/html": [
       "<div>\n",
       "<style scoped>\n",
       "    .dataframe tbody tr th:only-of-type {\n",
       "        vertical-align: middle;\n",
       "    }\n",
       "\n",
       "    .dataframe tbody tr th {\n",
       "        vertical-align: top;\n",
       "    }\n",
       "\n",
       "    .dataframe thead th {\n",
       "        text-align: right;\n",
       "    }\n",
       "</style>\n",
       "<table border=\"1\" class=\"dataframe\">\n",
       "  <thead>\n",
       "    <tr style=\"text-align: right;\">\n",
       "      <th></th>\n",
       "      <th>순위</th>\n",
       "      <th>곡명</th>\n",
       "      <th>가수</th>\n",
       "    </tr>\n",
       "  </thead>\n",
       "  <tbody>\n",
       "    <tr>\n",
       "      <th>0</th>\n",
       "      <td>1위</td>\n",
       "      <td>Ditto</td>\n",
       "      <td>NewJeans</td>\n",
       "    </tr>\n",
       "    <tr>\n",
       "      <th>1</th>\n",
       "      <td>2위</td>\n",
       "      <td>OMG</td>\n",
       "      <td>NewJeans</td>\n",
       "    </tr>\n",
       "    <tr>\n",
       "      <th>2</th>\n",
       "      <td>3위</td>\n",
       "      <td>Hype boy</td>\n",
       "      <td>NewJeans</td>\n",
       "    </tr>\n",
       "    <tr>\n",
       "      <th>3</th>\n",
       "      <td>4위</td>\n",
       "      <td>파이팅 해야지 (Feat. 이영지)</td>\n",
       "      <td>부석순 (SEVENTEEN)</td>\n",
       "    </tr>\n",
       "    <tr>\n",
       "      <th>4</th>\n",
       "      <td>5위</td>\n",
       "      <td>사건의 지평선</td>\n",
       "      <td>윤하 (YOUNHA)</td>\n",
       "    </tr>\n",
       "  </tbody>\n",
       "</table>\n",
       "</div>"
      ],
      "text/plain": [
       "   순위                   곡명               가수\n",
       "0  1위                Ditto         NewJeans\n",
       "1  2위                  OMG         NewJeans\n",
       "2  3위             Hype boy         NewJeans\n",
       "3  4위  파이팅 해야지 (Feat. 이영지)  부석순 (SEVENTEEN)\n",
       "4  5위              사건의 지평선      윤하 (YOUNHA)"
      ]
     },
     "execution_count": 437,
     "metadata": {},
     "output_type": "execute_result"
    }
   ],
   "source": [
    "\n",
    "melon_dict = {\"순위\":rank_list,\"곡명\":song_list2,\"가수\":singer_list2}\n",
    "\n",
    "\n",
    "melon_df = pd.DataFrame(melon_dict)\n",
    "\n",
    "melon_df.head()"
   ]
  },
  {
   "cell_type": "code",
   "execution_count": 439,
   "metadata": {},
   "outputs": [
    {
     "name": "stderr",
     "output_type": "stream",
     "text": [
      "c:\\Users\\smhrd\\AppData\\Local\\Programs\\Python\\Python311\\Lib\\site-packages\\pandas\\util\\_decorators.py:211: FutureWarning: the 'encoding' keyword is deprecated and will be removed in a future version. Please take steps to stop the use of 'encoding'\n",
      "  return func(*args, **kwargs)\n"
     ]
    }
   ],
   "source": [
    "melon_df.to_excel('./melon_df.xlsx', encoding=\"UTF-8\",index=False)"
   ]
  },
  {
   "attachments": {},
   "cell_type": "markdown",
   "metadata": {},
   "source": [
    "#### 4-2 번 문제"
   ]
  },
  {
   "cell_type": "code",
   "execution_count": 330,
   "metadata": {},
   "outputs": [],
   "source": [
    "# url 연결\n",
    "url = \"https://www.youtube.com/\"\n",
    "driver = wb.Chrome()\n",
    "driver.get(url)"
   ]
  },
  {
   "cell_type": "code",
   "execution_count": 322,
   "metadata": {},
   "outputs": [],
   "source": [
    "# 키워드 저장\n",
    "keyword =\"크롤링\""
   ]
  },
  {
   "cell_type": "code",
   "execution_count": 331,
   "metadata": {},
   "outputs": [],
   "source": [
    "# 검색창을 클릭하여 키워드 넘겨주기\n",
    "# 영상을 100개 이상 가져오기 위한 페이지 스크롤 내려주기\n",
    "driver.find_element(By.CSS_SELECTOR, \".ytd-searchbox-spt \").click()\n",
    "driver.find_element(By.CSS_SELECTOR,\"input#search\").send_keys(keyword+\"\\n\")\n",
    "for i in range(50):\n",
    "    driver.find_element(By.CSS_SELECTOR,\"body\").send_keys(Keys.PAGE_DOWN)\n",
    "    time.sleep(2)"
   ]
  },
  {
   "cell_type": "code",
   "execution_count": 195,
   "metadata": {},
   "outputs": [
    {
     "data": {
      "text/plain": [
       "'파이썬 웹 크롤링 하기 - 너무 간단해서 민망합니다.'"
      ]
     },
     "execution_count": 195,
     "metadata": {},
     "output_type": "execute_result"
    }
   ],
   "source": [
    "# 제목test\n",
    "# driver.find_element(By.CSS_SELECTOR,\"h3.title-and-badge.style-scope.ytd-video-renderer\").text"
   ]
  },
  {
   "cell_type": "code",
   "execution_count": 334,
   "metadata": {},
   "outputs": [],
   "source": [
    "# 제목변수에 h3의 선택자들 담아주기\n",
    "title = driver.find_elements(By.CSS_SELECTOR,\"h3.title-and-badge.style-scope.ytd-video-renderer\")"
   ]
  },
  {
   "cell_type": "code",
   "execution_count": 335,
   "metadata": {},
   "outputs": [
    {
     "data": {
      "text/plain": [
       "119"
      ]
     },
     "execution_count": 335,
     "metadata": {},
     "output_type": "execute_result"
    }
   ],
   "source": [
    "len(title)"
   ]
  },
  {
   "cell_type": "code",
   "execution_count": 336,
   "metadata": {},
   "outputs": [],
   "source": [
    "title_list=[]"
   ]
  },
  {
   "cell_type": "code",
   "execution_count": 337,
   "metadata": {},
   "outputs": [],
   "source": [
    "# 영상 타이틀 100개 가져오기\n",
    "for i in range(len(title)):\n",
    "    title_list.append(title[i].text)\n",
    "    if(len(title_list)==100):\n",
    "        break"
   ]
  },
  {
   "cell_type": "code",
   "execution_count": 339,
   "metadata": {},
   "outputs": [],
   "source": [
    "review = driver.find_elements(By.CSS_SELECTOR,\"#primary #metadata-line>#separator ~ span\")"
   ]
  },
  {
   "cell_type": "code",
   "execution_count": 344,
   "metadata": {},
   "outputs": [],
   "source": [
    "review_list=[]"
   ]
  },
  {
   "cell_type": "code",
   "execution_count": 345,
   "metadata": {},
   "outputs": [],
   "source": [
    "# 조회수 데이터만 뽑기\n",
    "# 리스트 길이가 100일시 종료\n",
    "for i in range(len(review)):\n",
    "    if((review[i].text)!=\"\"):\n",
    "        if((i%2)==1):\n",
    "            review_list.append(review[i].text)\n",
    "            if(len(review_list)==100):\n",
    "                break"
   ]
  },
  {
   "cell_type": "code",
   "execution_count": 351,
   "metadata": {},
   "outputs": [
    {
     "data": {
      "text/plain": [
       "(100, 100)"
      ]
     },
     "execution_count": 351,
     "metadata": {},
     "output_type": "execute_result"
    }
   ],
   "source": [
    "# 제목과 조회수 길이 확인\n",
    "len(title_list),len(review_list)\n"
   ]
  },
  {
   "cell_type": "code",
   "execution_count": 347,
   "metadata": {},
   "outputs": [
    {
     "data": {
      "text/plain": [
       "['조회수 7만회',\n",
       " '조회수 52만회',\n",
       " '조회수 3만회',\n",
       " '조회수 29만회',\n",
       " '조회수 33만회',\n",
       " '조회수 2.8만회',\n",
       " '조회수 9.3천회',\n",
       " '조회수 1.8만회',\n",
       " '조회수 19만회',\n",
       " '조회수 120만회',\n",
       " '조회수 50만회',\n",
       " '조회수 25만회',\n",
       " '조회수 436만회',\n",
       " '조회수 2.3천회',\n",
       " '조회수 25만회',\n",
       " '조회수 4.6만회',\n",
       " '조회수 10만회',\n",
       " '조회수 1.3만회',\n",
       " '조회수 1.5만회',\n",
       " '조회수 5.5천회',\n",
       " '조회수 1.1만회',\n",
       " '조회수 35만회',\n",
       " '조회수 5.2만회',\n",
       " '조회수 2.6만회',\n",
       " '조회수 201회',\n",
       " '조회수 2.9만회',\n",
       " '조회수 2.2만회',\n",
       " '조회수 241회',\n",
       " '조회수 2.1천회',\n",
       " '조회수 2.6천회',\n",
       " '조회수 9.4만회',\n",
       " '조회수 8.5천회',\n",
       " '조회수 1.1천회',\n",
       " '조회수 6천회',\n",
       " '조회수 2.4만회',\n",
       " '조회수 1.7만회',\n",
       " '조회수 890회',\n",
       " '조회수 2천회',\n",
       " '조회수 685회',\n",
       " '조회수 9.6천회',\n",
       " '조회수 2.4천회',\n",
       " '조회수 3만회',\n",
       " '조회수 5.3천회',\n",
       " '조회수 575회',\n",
       " '조회수 782회',\n",
       " '조회수 1.2천회',\n",
       " '조회수 4.5천회',\n",
       " '조회수 1만회',\n",
       " '조회수 1.3만회',\n",
       " '조회수 8.7천회',\n",
       " '조회수 2.2만회',\n",
       " '조회수 3.3천회',\n",
       " '조회수 9천회',\n",
       " '조회수 1.2천회',\n",
       " '조회수 2.6천회',\n",
       " '조회수 2천회',\n",
       " '조회수 908회',\n",
       " '조회수 2.8천회',\n",
       " '조회수 2.2천회',\n",
       " '조회수 2.2만회',\n",
       " '조회수 4.9천회',\n",
       " '조회수 191회',\n",
       " '조회수 3.6천회',\n",
       " '조회수 6천회',\n",
       " '조회수 1.5천회',\n",
       " '조회수 2.7천회',\n",
       " '조회수 6.5천회',\n",
       " '조회수 680회',\n",
       " '조회수 1.8천회',\n",
       " '조회수 8.2천회',\n",
       " '조회수 2.3천회',\n",
       " '조회수 4.6만회',\n",
       " '조회수 2.1천회',\n",
       " '조회수 873회',\n",
       " '조회수 147회',\n",
       " '조회수 307회',\n",
       " '조회수 5.9천회',\n",
       " '조회수 1.1천회',\n",
       " '조회수 3.7천회',\n",
       " '조회수 1.5천회',\n",
       " '조회수 821회',\n",
       " '조회수 454회',\n",
       " '조회수 1.5천회',\n",
       " '조회수 7천회',\n",
       " '조회수 7.4천회',\n",
       " '조회수 169회',\n",
       " '조회수 1.9천회',\n",
       " '조회수 2.5천회',\n",
       " '조회수 673회',\n",
       " '조회수 1천회',\n",
       " '조회수 1.1천회',\n",
       " '조회수 753회',\n",
       " '조회수 991회',\n",
       " '조회수 961회',\n",
       " '조회수 359회',\n",
       " '조회수 8.7천회',\n",
       " '조회수 374회',\n",
       " '조회수 2천회',\n",
       " '조회수 5.1천회',\n",
       " '조회수 684회']"
      ]
     },
     "execution_count": 347,
     "metadata": {},
     "output_type": "execute_result"
    }
   ],
   "source": [
    "# 출력\n",
    "review_list"
   ]
  },
  {
   "cell_type": "code",
   "execution_count": 349,
   "metadata": {},
   "outputs": [
    {
     "data": {
      "text/html": [
       "<div>\n",
       "<style scoped>\n",
       "    .dataframe tbody tr th:only-of-type {\n",
       "        vertical-align: middle;\n",
       "    }\n",
       "\n",
       "    .dataframe tbody tr th {\n",
       "        vertical-align: top;\n",
       "    }\n",
       "\n",
       "    .dataframe thead th {\n",
       "        text-align: right;\n",
       "    }\n",
       "</style>\n",
       "<table border=\"1\" class=\"dataframe\">\n",
       "  <thead>\n",
       "    <tr style=\"text-align: right;\">\n",
       "      <th></th>\n",
       "      <th>제목명</th>\n",
       "      <th>조회수</th>\n",
       "    </tr>\n",
       "  </thead>\n",
       "  <tbody>\n",
       "    <tr>\n",
       "      <th>0</th>\n",
       "      <td>파이썬 웹 크롤링 하기 - 너무 간단해서 민망합니다.</td>\n",
       "      <td>조회수 7만회</td>\n",
       "    </tr>\n",
       "    <tr>\n",
       "      <th>1</th>\n",
       "      <td>파이썬 코딩 무료 강의 (활용편3) - 웹 크롤링? 웹 스크래핑! 제가 가진 모든 ...</td>\n",
       "      <td>조회수 52만회</td>\n",
       "    </tr>\n",
       "    <tr>\n",
       "      <th>2</th>\n",
       "      <td>30만원 짜리 외주 프로그램 만들기 - 파이썬으로 네이버 쇼핑 크롤링하기 1편 (f...</td>\n",
       "      <td>조회수 3만회</td>\n",
       "    </tr>\n",
       "    <tr>\n",
       "      <th>3</th>\n",
       "      <td>웹 크롤링, 이것만 알면 다 됩니다. (진짜로;;) | 네이버 부동산, 연관검색어 ...</td>\n",
       "      <td>조회수 29만회</td>\n",
       "    </tr>\n",
       "    <tr>\n",
       "      <th>4</th>\n",
       "      <td>No 설치, No 코딩! 크롬과 엑셀만 있으면 10초면 가능한 웹 크롤링 자동화까지...</td>\n",
       "      <td>조회수 33만회</td>\n",
       "    </tr>\n",
       "    <tr>\n",
       "      <th>5</th>\n",
       "      <td>엑셀 함수로 크롤링 하는 방법, 정말 쉽고 편리합니다! | 네이버 연관검색어 서식 만들기</td>\n",
       "      <td>조회수 2.8만회</td>\n",
       "    </tr>\n",
       "    <tr>\n",
       "      <th>6</th>\n",
       "      <td>파이썬 초보자도 웹 크롤링 2시간이면 됩니다ㅣNAVER 쇼핑 데이터 실습 따라하기</td>\n",
       "      <td>조회수 9.3천회</td>\n",
       "    </tr>\n",
       "    <tr>\n",
       "      <th>7</th>\n",
       "      <td>크롤링이 처음인 초보자들에게 파이썬 Beautifulsoup을 권해드립니다</td>\n",
       "      <td>조회수 1.8만회</td>\n",
       "    </tr>\n",
       "    <tr>\n",
       "      <th>8</th>\n",
       "      <td>chatGPT에게 네이버 크롤링 파이썬 코드를 짜달라고 시켜봤습니다.</td>\n",
       "      <td>조회수 19만회</td>\n",
       "    </tr>\n",
       "    <tr>\n",
       "      <th>9</th>\n",
       "      <td>[골프맨] 던지지 못하는 이유는 릴리스에 대한 오해 때문입니다 / 래깅과 릴리스의 원리</td>\n",
       "      <td>조회수 120만회</td>\n",
       "    </tr>\n",
       "  </tbody>\n",
       "</table>\n",
       "</div>"
      ],
      "text/plain": [
       "                                                 제목명        조회수\n",
       "0                      파이썬 웹 크롤링 하기 - 너무 간단해서 민망합니다.    조회수 7만회\n",
       "1  파이썬 코딩 무료 강의 (활용편3) - 웹 크롤링? 웹 스크래핑! 제가 가진 모든 ...   조회수 52만회\n",
       "2  30만원 짜리 외주 프로그램 만들기 - 파이썬으로 네이버 쇼핑 크롤링하기 1편 (f...    조회수 3만회\n",
       "3  웹 크롤링, 이것만 알면 다 됩니다. (진짜로;;) | 네이버 부동산, 연관검색어 ...   조회수 29만회\n",
       "4  No 설치, No 코딩! 크롬과 엑셀만 있으면 10초면 가능한 웹 크롤링 자동화까지...   조회수 33만회\n",
       "5  엑셀 함수로 크롤링 하는 방법, 정말 쉽고 편리합니다! | 네이버 연관검색어 서식 만들기  조회수 2.8만회\n",
       "6      파이썬 초보자도 웹 크롤링 2시간이면 됩니다ㅣNAVER 쇼핑 데이터 실습 따라하기  조회수 9.3천회\n",
       "7          크롤링이 처음인 초보자들에게 파이썬 Beautifulsoup을 권해드립니다  조회수 1.8만회\n",
       "8             chatGPT에게 네이버 크롤링 파이썬 코드를 짜달라고 시켜봤습니다.   조회수 19만회\n",
       "9   [골프맨] 던지지 못하는 이유는 릴리스에 대한 오해 때문입니다 / 래깅과 릴리스의 원리  조회수 120만회"
      ]
     },
     "execution_count": 349,
     "metadata": {},
     "output_type": "execute_result"
    }
   ],
   "source": [
    "dic={\"제목명\":title_list,\"조회수\":review_list}\n",
    "youtubeDF=pd.DataFrame(dic)\n",
    "youtubeDF.head(10)"
   ]
  },
  {
   "cell_type": "code",
   "execution_count": 350,
   "metadata": {},
   "outputs": [
    {
     "name": "stderr",
     "output_type": "stream",
     "text": [
      "c:\\Users\\smhrd\\AppData\\Local\\Programs\\Python\\Python311\\Lib\\site-packages\\pandas\\util\\_decorators.py:211: FutureWarning: the 'encoding' keyword is deprecated and will be removed in a future version. Please take steps to stop the use of 'encoding'\n",
      "  return func(*args, **kwargs)\n"
     ]
    }
   ],
   "source": [
    "youtubeDF.to_excel(\"./youtube.xlsx\", encoding='UTF-8')"
   ]
  },
  {
   "cell_type": "code",
   "execution_count": null,
   "metadata": {},
   "outputs": [],
   "source": []
  }
 ],
 "metadata": {
  "kernelspec": {
   "display_name": "Python 3",
   "language": "python",
   "name": "python3"
  },
  "language_info": {
   "codemirror_mode": {
    "name": "ipython",
    "version": 3
   },
   "file_extension": ".py",
   "mimetype": "text/x-python",
   "name": "python",
   "nbconvert_exporter": "python",
   "pygments_lexer": "ipython3",
   "version": "3.11.1"
  },
  "orig_nbformat": 4
 },
 "nbformat": 4,
 "nbformat_minor": 2
}

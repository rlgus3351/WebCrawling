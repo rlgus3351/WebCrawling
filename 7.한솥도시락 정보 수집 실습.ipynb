{
 "cells": [
  {
   "attachments": {},
   "cell_type": "markdown",
   "metadata": {},
   "source": [
    "#### 한솥 도시락 정보 수집\n",
    "- 도시락 메뉴와 가격 수집\n",
    "- 수집한 정보를 엑셀로 저장하기"
   ]
  },
  {
   "cell_type": "code",
   "execution_count": 2,
   "metadata": {},
   "outputs": [],
   "source": [
    "# 모듈 가져오기\n",
    "from selenium import webdriver\n",
    "from selenium.webdriver.common.by import By\n",
    "from selenium.webdriver.common.keys import Keys\n",
    "\n",
    "import time\n",
    "import pandas as pd"
   ]
  },
  {
   "cell_type": "code",
   "execution_count": 3,
   "metadata": {},
   "outputs": [],
   "source": [
    "hsd_url = \"https://www.hsd.co.kr/menu/menu_list\"\n",
    "\n",
    "driver = webdriver.Chrome()\n",
    "driver.get(hsd_url)\n"
   ]
  },
  {
   "cell_type": "code",
   "execution_count": 4,
   "metadata": {},
   "outputs": [],
   "source": [
    "# 1. 모든 도시락 메뉴를 출력하기 위해서 '더보기' 버튼 클릭하기\n",
    "for i in range(4):\n",
    "    driver.find_element(By.CSS_SELECTOR, \"a.c_05\").click()\n"
   ]
  },
  {
   "cell_type": "code",
   "execution_count": 5,
   "metadata": {},
   "outputs": [],
   "source": [
    "# 2. 모든 메뉴가 보여줬을 때, 메뉴와 가격을 수집하기\n",
    "\n",
    "menu = driver.find_elements(By.CSS_SELECTOR,\"h4.h.fz_03\")\n",
    "menu_list = []\n",
    "for i in menu:\n",
    "    menu_list.append(i.text)\n",
    "    \n",
    "    \n",
    "price_list = []\n",
    "price = driver.find_elements(By.CSS_SELECTOR,\".item-price strong\")\n",
    "# price = driver.find_elements(By.CSS_SELECTOR,\"span.blind + strong\")\n",
    "\n",
    "for i in price:\n",
    "    price_list.append(i.text+\"원\")\n",
    "    "
   ]
  },
  {
   "cell_type": "code",
   "execution_count": 6,
   "metadata": {},
   "outputs": [
    {
     "data": {
      "text/plain": [
       "86"
      ]
     },
     "execution_count": 6,
     "metadata": {},
     "output_type": "execute_result"
    }
   ],
   "source": [
    "len(menu_list)"
   ]
  },
  {
   "cell_type": "code",
   "execution_count": 7,
   "metadata": {},
   "outputs": [
    {
     "data": {
      "text/plain": [
       "86"
      ]
     },
     "execution_count": 7,
     "metadata": {},
     "output_type": "execute_result"
    }
   ],
   "source": [
    "len(price_list)"
   ]
  },
  {
   "cell_type": "code",
   "execution_count": 42,
   "metadata": {},
   "outputs": [],
   "source": [
    "\n",
    "# 3. 수집된 데이터를 엑셀파일로 저장하기.\n",
    "\n",
    "data_dic = {\"메뉴명\":menu_list, \"가격\":price_list}\n",
    "\n",
    "data_df = pd.DataFrame(data_dic)\n",
    "data_df.to_excel('./한솥도시락_전체메뉴.xlsx', index=False)"
   ]
  },
  {
   "cell_type": "code",
   "execution_count": 47,
   "metadata": {},
   "outputs": [],
   "source": [
    "test = pd.read_excel('./한솥도시락_전체메뉴.xlsx')\n"
   ]
  },
  {
   "cell_type": "code",
   "execution_count": 41,
   "metadata": {},
   "outputs": [
    {
     "data": {
      "text/plain": [
       "True"
      ]
     },
     "execution_count": 41,
     "metadata": {},
     "output_type": "execute_result"
    }
   ],
   "source": [
    "# 이미지 캡쳐\n",
    "driver.find_element(By.CSS_SELECTOR,\".item-img\").screenshot('test.png')"
   ]
  },
  {
   "cell_type": "code",
   "execution_count": null,
   "metadata": {},
   "outputs": [],
   "source": []
  }
 ],
 "metadata": {
  "kernelspec": {
   "display_name": "Python 3",
   "language": "python",
   "name": "python3"
  },
  "language_info": {
   "codemirror_mode": {
    "name": "ipython",
    "version": 3
   },
   "file_extension": ".py",
   "mimetype": "text/x-python",
   "name": "python",
   "nbconvert_exporter": "python",
   "pygments_lexer": "ipython3",
   "version": "3.11.1"
  },
  "orig_nbformat": 4,
  "vscode": {
   "interpreter": {
    "hash": "8d29ec00ae0add0190cce9c6bb44028ed64b4cb4a58b5f5c12e34c6897e75494"
   }
  }
 },
 "nbformat": 4,
 "nbformat_minor": 2
}

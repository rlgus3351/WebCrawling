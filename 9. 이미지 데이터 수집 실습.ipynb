{
 "cells": [
  {
   "attachments": {},
   "cell_type": "markdown",
   "metadata": {},
   "source": [
    "### 네이버 이미지 데이터 수집\n",
    "- 특정 이미지를 수집한 후 폴더에 저장\n",
    "- 특정 키워드에 맞는 폴더를 생성하여 이미지를 저장"
   ]
  },
  {
   "attachments": {},
   "cell_type": "markdown",
   "metadata": {},
   "source": [
    "1. 모듈 불러오기"
   ]
  },
  {
   "cell_type": "code",
   "execution_count": 19,
   "metadata": {},
   "outputs": [],
   "source": [
    "import time\n",
    "\n",
    "# 파일 시스템을 다루는 도구(폴더/파일 생성, 삭제, 존재여부 등...)\n",
    "import os\n",
    "\n",
    "\n",
    "from selenium import webdriver as wb\n",
    "from selenium.webdriver.common.by import By\n",
    "from selenium.webdriver.common.keys import Keys\n",
    "\n",
    "\n",
    "# 이미지 주소를 요청 -> 로컬 PC에 이미지 파일로 저장하는 도구\n",
    "from urllib.request import urlretrieve"
   ]
  },
  {
   "cell_type": "code",
   "execution_count": 5,
   "metadata": {},
   "outputs": [
    {
     "data": {
      "text/plain": [
       "('test.jpg', <http.client.HTTPMessage at 0x29a167f1d10>)"
      ]
     },
     "execution_count": 5,
     "metadata": {},
     "output_type": "execute_result"
    }
   ],
   "source": [
    "# 이미지 주소를 이용해서 파일로 저장하기\n",
    "\n",
    "imgSrc = 'https://search.pstatic.net/common/?src=http%3A%2F%2Fblogfiles.naver.net%2FMjAyMzAyMDJfMjQy%2FMDAxNjc1MzE4MjE5NTgw.loZs0RoKyvnKc5gDunxg59rxFJbc4HIVv3Zy6VyeHTUg.DFgd6IcBTmi9kjt2OPwmIPOkyQt48t-GeuUEx27ic6Ug.JPEG.djarkdnjs%2FIMG_1022.JPG&type=a340'\n",
    "urlretrieve(imgSrc, \"test.png\")"
   ]
  },
  {
   "cell_type": "code",
   "execution_count": 6,
   "metadata": {},
   "outputs": [],
   "source": [
    "# 폴더를 생성하는 법\n",
    "os.mkdir('강아지')"
   ]
  },
  {
   "cell_type": "code",
   "execution_count": 9,
   "metadata": {},
   "outputs": [
    {
     "data": {
      "text/plain": [
       "True"
      ]
     },
     "execution_count": 9,
     "metadata": {},
     "output_type": "execute_result"
    }
   ],
   "source": [
    "# 폴더 존재 여부를 판단하기\n",
    "# True : 이미 생성된 폴더\n",
    "# False : 없는 폴더\n",
    "os.path.isdir('강아지')"
   ]
  },
  {
   "attachments": {},
   "cell_type": "markdown",
   "metadata": {},
   "source": [
    "2. url로 Driver 연결"
   ]
  },
  {
   "cell_type": "code",
   "execution_count": 29,
   "metadata": {},
   "outputs": [],
   "source": [
    "url = \"https://search.naver.com/search.naver?where=image&sm=tab_jum&query=%EA%B0%95%EC%95%84%EC%A7%80\"\n",
    "driver = wb.Chrome()\n",
    "driver.get(url)"
   ]
  },
  {
   "cell_type": "code",
   "execution_count": 30,
   "metadata": {},
   "outputs": [
    {
     "data": {
      "text/plain": [
       "48"
      ]
     },
     "execution_count": 30,
     "metadata": {},
     "output_type": "execute_result"
    }
   ],
   "source": [
    "# 1. 이미지 요소의 src속성값을 접근\n",
    "imgList = driver.find_elements(By.CSS_SELECTOR, 'img._image._listImage')\n"
   ]
  },
  {
   "cell_type": "code",
   "execution_count": 35,
   "metadata": {},
   "outputs": [
    {
     "data": {
      "text/plain": [
       "481"
      ]
     },
     "execution_count": 35,
     "metadata": {},
     "output_type": "execute_result"
    }
   ],
   "source": [
    "# 페이지 스크롤 내리기 전 이미지 리스트 수 조사 -> 48건\n",
    "len(imgList)"
   ]
  },
  {
   "cell_type": "code",
   "execution_count": 17,
   "metadata": {},
   "outputs": [
    {
     "data": {
      "text/plain": [
       "'https://search.pstatic.net/common/?src=http%3A%2F%2Fblogfiles.naver.net%2FMjAyMzAxMjlfMjY1%2FMDAxNjc0OTgyMTA5Njg1.bdz36OWs1JdnEG2coiEC1nNN8c_Fw92L1grUa8lbncAg.U2sebGzfyVsMJvzWpulYVQbPuS1NeMG94bF69W1MQjEg.JPEG.lbhcook%2FKakaoTalk_20230119_201408151_01.jpg&type=a340'"
      ]
     },
     "execution_count": 17,
     "metadata": {},
     "output_type": "execute_result"
    }
   ],
   "source": [
    "# 원하는 태그 안에 속성 뽑아오기\n",
    "imgList[0].get_attribute('src')"
   ]
  },
  {
   "cell_type": "code",
   "execution_count": 31,
   "metadata": {},
   "outputs": [],
   "source": [
    "# 많은 이미지 확보를 위한 페이지 스크롤 내리기!\n",
    "# Keys.END : 웹 페이지 마지막 위치로 이동하게 되며\n",
    "# -> 데이터를 가져오는 시간을 고려해야 한다.\n",
    "for i in range(5):\n",
    "    driver.find_element(By.CSS_SELECTOR,'body').send_keys(Keys.END)\n",
    "    time.sleep(1.5)"
   ]
  },
  {
   "cell_type": "code",
   "execution_count": 32,
   "metadata": {},
   "outputs": [],
   "source": [
    "# css 선택자 : img._image._listImage\n",
    "# img 태그의 클래스 이름이 _image와 _listImage로 되어있어 두개다 사용하려면 ._image._listImage로 사용한다.\n",
    "imgList = driver.find_elements(By.CSS_SELECTOR, 'img._image._listImage')"
   ]
  },
  {
   "cell_type": "code",
   "execution_count": 34,
   "metadata": {},
   "outputs": [
    {
     "data": {
      "text/plain": [
       "481"
      ]
     },
     "execution_count": 34,
     "metadata": {},
     "output_type": "execute_result"
    }
   ],
   "source": [
    "# 이후 이미지 리스트 길이 조사 : 481건(검색 키워드에 따라 다를수 있음)\n",
    "# 스크롤을 내리면 브라우저 화면에 나타나는 이미지가 많아지므로 이미지 파일의 값들을 저장한 리스트가 길어진다.\n",
    "len(imgList)"
   ]
  },
  {
   "attachments": {},
   "cell_type": "markdown",
   "metadata": {},
   "source": [
    "#### 코드 통합"
   ]
  },
  {
   "cell_type": "code",
   "execution_count": 61,
   "metadata": {},
   "outputs": [
    {
     "name": "stdout",
     "output_type": "stream",
     "text": [
      "돈까스 폴더를 생성하였습니다.\n"
     ]
    }
   ],
   "source": [
    "# 1. 웹 페이지 스크롤 내리기\n",
    "# url = \"https://search.naver.com/search.naver?where=image&sm=tab_jum&query={%EA%B0%95%EC%95%84%EC%A7%80}\"\n",
    "# keyword = \"고양이\"\n",
    "keyword = input(\"수집할 데이터를 입력해주세요. \")\n",
    "url = f\"https://search.naver.com/search.naver?where=image&sm=tab_jum&query={keyword}\"\n",
    "driver = wb.Chrome()\n",
    "driver.get(url)\n",
    "\n",
    "# 브라우저가 실행되는 시간\n",
    "time.sleep(5)\n",
    "\n",
    "for i in range(5):\n",
    "    driver.find_element(By.CSS_SELECTOR,'body').send_keys(Keys.END)\n",
    "    time.sleep(1.5)\n",
    "    \n",
    "# 2. 이미지 요소 접근하기\n",
    "imgList = driver.find_elements(By.CSS_SELECTOR, 'img._image._listImage')\n",
    "\n",
    "# 3. 이미지 요소가 가진 src속성값 접근하기\n",
    "srcList = []\n",
    "for i in range(len(imgList)):\n",
    "    # 'h'로 시작하는 값만 리스트에 저장\n",
    "    # 'http의 image 선택자를 가져와야함으로 'h'로 시작되는 값만 저장한다.\n",
    "    if(imgList[i].get_attribute('src')[0]=='h'):\n",
    "        srcList.append(imgList[i].get_attribute('src'))\n",
    "\n",
    "# 3_2. 이미지를 저장할 폴더 생성하기\n",
    "\n",
    "# keyword의 폴더가 있는지 판단하고 없으면 폴더 생성해주기!\n",
    "if os.path.isdir(keyword)==True:\n",
    "    print(\"이미 폴더가 있습니다.\")\n",
    "else:\n",
    "    os.mkdir(keyword)\n",
    "    print(f\"{keyword} 폴더를 생성하였습니다.\")\n",
    "        \n",
    "# 4. 이미지 주소로 파일 저장하기\n",
    "for i in range(len(srcList)):\n",
    "    urlretrieve(srcList[i], f'{keyword}/{keyword}{i+1}.jpg')\n",
    "    # time.sleep(1)\n",
    "print(\"이미지 수집이 완료되었습니다.\")"
   ]
  }
 ],
 "metadata": {
  "kernelspec": {
   "display_name": "Python 3",
   "language": "python",
   "name": "python3"
  },
  "language_info": {
   "codemirror_mode": {
    "name": "ipython",
    "version": 3
   },
   "file_extension": ".py",
   "mimetype": "text/x-python",
   "name": "python",
   "nbconvert_exporter": "python",
   "pygments_lexer": "ipython3",
   "version": "3.11.1"
  },
  "orig_nbformat": 4,
  "vscode": {
   "interpreter": {
    "hash": "8d29ec00ae0add0190cce9c6bb44028ed64b4cb4a58b5f5c12e34c6897e75494"
   }
  }
 },
 "nbformat": 4,
 "nbformat_minor": 2
}

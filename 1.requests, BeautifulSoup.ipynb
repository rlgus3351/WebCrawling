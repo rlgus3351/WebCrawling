{
 "cells": [
  {
   "attachments": {},
   "cell_type": "markdown",
   "id": "338807af",
   "metadata": {},
   "source": [
    "#### requests\n",
    "- 웹 페이지의 데이터를 요청하기 위한 라이브러리\n",
    "- 데이터 -> html 문서"
   ]
  },
  {
   "cell_type": "code",
   "execution_count": 1,
   "id": "524a0a53",
   "metadata": {},
   "outputs": [],
   "source": [
    "import requests as req\n",
    "from bs4 import BeautifulSoup"
   ]
  },
  {
   "cell_type": "code",
   "execution_count": 2,
   "id": "cccb21bc",
   "metadata": {},
   "outputs": [],
   "source": [
    "# 요청할 웹 페이지의 URL 주소를 변수에 저장한다.\n",
    "\n",
    "url = 'https://www.naver.com'"
   ]
  },
  {
   "cell_type": "code",
   "execution_count": 3,
   "id": "eaf16aa9",
   "metadata": {},
   "outputs": [
    {
     "data": {
      "text/plain": [
       "<Response [200]>"
      ]
     },
     "execution_count": 3,
     "metadata": {},
     "output_type": "execute_result"
    }
   ],
   "source": [
    "# requests를 이용해서 웹 페이지의 데이터를 요청한다.\n",
    "req.get(url)\n"
   ]
  },
  {
   "attachments": {},
   "cell_type": "markdown",
   "id": "1a3d0128",
   "metadata": {},
   "source": [
    "#### HTTP 상태코드\n",
    "\n",
    "- 200: 정상적으로 통신됨\n",
    "- 400, 404, 406: Client 오류\n",
    "- 500: server오류"
   ]
  },
  {
   "cell_type": "code",
   "execution_count": 4,
   "id": "b0427a76",
   "metadata": {},
   "outputs": [],
   "source": [
    "# 응답 받은 데이터를 변수에 저장한다.\n",
    "res = req.get(url)\n",
    "\n",
    "# HTML 데이터에 접근\n",
    "page = res.text"
   ]
  },
  {
   "cell_type": "code",
   "execution_count": 5,
   "id": "9fed316e",
   "metadata": {},
   "outputs": [
    {
     "data": {
      "text/plain": [
       "str"
      ]
     },
     "execution_count": 5,
     "metadata": {},
     "output_type": "execute_result"
    }
   ],
   "source": [
    "# 데이터 타입 확인하기!\n",
    "type(page)"
   ]
  },
  {
   "attachments": {},
   "cell_type": "markdown",
   "id": "0f8025be",
   "metadata": {},
   "source": [
    "#### BeautifulSoup\n",
    "- 웹 페이지를 객체로 변환해주는 라이브러리\n",
    "- 데이터를 추출하기 편한 형태로 해석해주는 라이브러리"
   ]
  },
  {
   "cell_type": "code",
   "execution_count": 6,
   "id": "a40b55d2",
   "metadata": {},
   "outputs": [],
   "source": [
    "from bs4 import BeautifulSoup as bs\n"
   ]
  },
  {
   "cell_type": "code",
   "execution_count": 9,
   "id": "3da6b63c",
   "metadata": {},
   "outputs": [],
   "source": [
    "# bs(응답받은 html데이터, 해석해주는 도구)\n",
    "# --> python 객체로 변환\n",
    "# 해석해주는 도구 : lxml >  html.parser > html5lib (속도)\n",
    "html= bs(page, 'lxml')"
   ]
  },
  {
   "cell_type": "code",
   "execution_count": 15,
   "id": "863bc495",
   "metadata": {},
   "outputs": [
    {
     "data": {
      "text/plain": [
       "bs4.BeautifulSoup"
      ]
     },
     "execution_count": 15,
     "metadata": {},
     "output_type": "execute_result"
    }
   ],
   "source": [
    "type(html)"
   ]
  },
  {
   "cell_type": "code",
   "execution_count": 10,
   "id": "b08a6afe",
   "metadata": {},
   "outputs": [
    {
     "data": {
      "text/plain": [
       "bs4.BeautifulSoup"
      ]
     },
     "execution_count": 10,
     "metadata": {},
     "output_type": "execute_result"
    }
   ],
   "source": [
    "type(html)"
   ]
  },
  {
   "attachments": {},
   "cell_type": "markdown",
   "id": "d4cf2896",
   "metadata": {},
   "source": [
    "#### CSS 선택자 종류\n",
    "1. 태그선택자 : 태그 이름으로 특정 요소를 선택\n",
    "2. 아이디 선택자 : 특정요소를 선택(#)\n",
    "3. 클래스 선택자 : 특정요소를 선택(.)\n",
    "4. 계층선택자\n",
    "- 4.1 자손선택자 : 부모요소   자식요소\n",
    "- 4.2 자식선택자 : 부모요소 > 자식요소\n",
    "- 4.2 형제선택자 : 형제요소 ~ 형제요소 (형제를 기준으로 모든 형제요소)\n",
    "- 4.3 형제선택자 : 형제요소 + 형제요소 (하나만 선택)\n"
   ]
  },
  {
   "cell_type": "code",
   "execution_count": 26,
   "id": "ecadfe02",
   "metadata": {},
   "outputs": [
    {
     "data": {
      "text/plain": [
       "'NAVER'"
      ]
     },
     "execution_count": 26,
     "metadata": {},
     "output_type": "execute_result"
    }
   ],
   "source": [
    "# 원하는 데이터를 추출하기!\n",
    "# select_one (css선택자)\n",
    "# title 태그\n",
    "\n",
    "\n",
    "html.select_one('title')\n",
    "html.select_one('title').text"
   ]
  },
  {
   "cell_type": "code",
   "execution_count": 25,
   "id": "715ef716",
   "metadata": {},
   "outputs": [
    {
     "data": {
      "text/plain": [
       "bs4.element.Tag"
      ]
     },
     "execution_count": 25,
     "metadata": {},
     "output_type": "execute_result"
    }
   ],
   "source": [
    "type(html.select_one('title'))"
   ]
  },
  {
   "cell_type": "code",
   "execution_count": 27,
   "id": "016f81ef",
   "metadata": {},
   "outputs": [
    {
     "data": {
      "text/plain": [
       "'NAVER'"
      ]
     },
     "execution_count": 27,
     "metadata": {},
     "output_type": "execute_result"
    }
   ],
   "source": [
    "# text속성 : 요소의 컨텐츠(내용)을 가져온다.\n",
    "html.select_one('title').text"
   ]
  },
  {
   "cell_type": "code",
   "execution_count": 62,
   "id": "9829f136",
   "metadata": {},
   "outputs": [
    {
     "data": {
      "text/plain": [
       "[<li class=\"nav_item\">\n",
       " <a class=\"nav\" data-clk=\"svc.mail\" href=\"https://mail.naver.com/\"><i class=\"ico_mail\"></i>메일</a>\n",
       " </li>,\n",
       " <li class=\"nav_item\"><a class=\"nav\" data-clk=\"svc.cafe\" href=\"https://section.cafe.naver.com/\">카페</a></li>,\n",
       " <li class=\"nav_item\"><a class=\"nav\" data-clk=\"svc.blog\" href=\"https://section.blog.naver.com/\">블로그</a></li>,\n",
       " <li class=\"nav_item\"><a class=\"nav\" data-clk=\"svc.kin\" href=\"https://kin.naver.com/\">지식iN</a></li>,\n",
       " <li class=\"nav_item\"><a class=\"nav shop\" data-clk=\"svc.shopping\" href=\"https://shopping.naver.com/\"><span class=\"blind\">쇼핑</span></a></li>,\n",
       " <li class=\"nav_item\"><a class=\"nav shoplive\" data-clk=\"svc.shoppinglive\" href=\"https://shoppinglive.naver.com/home\"><span class=\"blind\">쇼핑LIVE</span></a></li>,\n",
       " <li class=\"nav_item\"><a class=\"nav\" data-clk=\"svc.pay\" href=\"https://order.pay.naver.com/home\">Pay</a></li>,\n",
       " <li class=\"nav_item\">\n",
       " <a class=\"nav\" data-clk=\"svc.tvcast\" href=\"https://tv.naver.com/\"><i class=\"ico_tv\"></i>TV</a>\n",
       " </li>,\n",
       " <li class=\"nav_item\"><a class=\"nav\" data-clk=\"svc.dic\" href=\"https://dict.naver.com/\">사전</a></li>,\n",
       " <li class=\"nav_item\"><a class=\"nav\" data-clk=\"svc.news\" href=\"https://news.naver.com/\">뉴스</a></li>,\n",
       " <li class=\"nav_item\"><a class=\"nav\" data-clk=\"svc.stock\" href=\"https://finance.naver.com/\">증권</a></li>,\n",
       " <li class=\"nav_item\"><a class=\"nav\" data-clk=\"svc.land\" href=\"https://land.naver.com/\">부동산</a></li>,\n",
       " <li class=\"nav_item\"><a class=\"nav\" data-clk=\"svc.map\" href=\"https://map.naver.com/\">지도</a></li>,\n",
       " <li class=\"nav_item\"><a class=\"nav\" data-clk=\"svc.vibe\" href=\"https://vibe.naver.com/?from=naver_main&amp;utm_source=naver_main&amp;utm_medium=naver_main_pcweb&amp;utm_campaign=naver_main_redirect\">VIBE</a></li>,\n",
       " <li class=\"nav_item\"><a class=\"nav\" data-clk=\"svc.book\" href=\"https://search.shopping.naver.com/book/home\">도서</a></li>,\n",
       " <li class=\"nav_item\"><a class=\"nav\" data-clk=\"svc.webtoon\" href=\"https://comic.naver.com/\">웹툰</a></li>]"
      ]
     },
     "execution_count": 62,
     "metadata": {},
     "output_type": "execute_result"
    }
   ],
   "source": [
    "# 네이버 메뉴 가져오기\n",
    "# select(CSS 선택자) : CSS선택자 조건에 맞는 요소들을 선택\n",
    "# bs4.element.ResultSet --> 타입결과\n",
    "menu_list = html.select('.nav_item')\n",
    "menu_list"
   ]
  },
  {
   "cell_type": "code",
   "execution_count": 67,
   "id": "8ea44a96",
   "metadata": {},
   "outputs": [
    {
     "data": {
      "text/plain": [
       "'\\n메일\\n'"
      ]
     },
     "execution_count": 67,
     "metadata": {},
     "output_type": "execute_result"
    }
   ],
   "source": [
    "menu_list[0].text"
   ]
  },
  {
   "cell_type": "code",
   "execution_count": 79,
   "id": "d3314a2c",
   "metadata": {},
   "outputs": [
    {
     "name": "stdout",
     "output_type": "stream",
     "text": [
      "메일\n",
      "카페\n",
      "블로그\n",
      "지식iN\n",
      "쇼핑\n",
      "쇼핑LIVE\n",
      "Pay\n",
      "TV\n",
      "사전\n",
      "뉴스\n",
      "증권\n",
      "부동산\n",
      "지도\n",
      "VIBE\n",
      "도서\n",
      "웹툰\n"
     ]
    }
   ],
   "source": [
    "# 1. 리스트의 길이를 활용한 for문\n",
    "# 리스트의 길이가 동일할 때 사용.\n",
    "# strip() : 공백제거\n",
    "for i in range(len(menu_list)):\n",
    "    print(menu_list[i].text.strip())"
   ]
  },
  {
   "cell_type": "code",
   "execution_count": 81,
   "id": "f712f634",
   "metadata": {},
   "outputs": [
    {
     "name": "stdout",
     "output_type": "stream",
     "text": [
      "메일\n",
      "카페\n",
      "블로그\n",
      "지식iN\n",
      "쇼핑\n",
      "쇼핑LIVE\n",
      "Pay\n",
      "TV\n",
      "사전\n",
      "뉴스\n",
      "증권\n",
      "부동산\n",
      "지도\n",
      "VIBE\n",
      "도서\n",
      "웹툰\n"
     ]
    }
   ],
   "source": [
    "# 2. 리스트를 활용한 for문 ( 인덱스 활용 x )\n",
    "for menu in menu_list:\n",
    "    print(menu.text.strip())"
   ]
  },
  {
   "cell_type": "code",
   "execution_count": null,
   "id": "746dd9e9",
   "metadata": {},
   "outputs": [],
   "source": []
  }
 ],
 "metadata": {
  "kernelspec": {
   "display_name": "base",
   "language": "python",
   "name": "python3"
  },
  "language_info": {
   "codemirror_mode": {
    "name": "ipython",
    "version": 3
   },
   "file_extension": ".py",
   "mimetype": "text/x-python",
   "name": "python",
   "nbconvert_exporter": "python",
   "pygments_lexer": "ipython3",
   "version": "3.9.13"
  },
  "vscode": {
   "interpreter": {
    "hash": "3d897ffbc13b5710e71e9fb36eb41d8dd58a75d8f4bd294893ab0962f9ec9b14"
   }
  }
 },
 "nbformat": 4,
 "nbformat_minor": 5
}

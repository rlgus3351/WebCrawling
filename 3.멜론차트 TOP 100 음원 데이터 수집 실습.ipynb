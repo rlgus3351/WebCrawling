{
 "cells": [
  {
   "attachments": {},
   "cell_type": "markdown",
   "metadata": {},
   "source": [
    "### 멜론 음원 데이터 수집 실습\n",
    "1. 곡명과 가수 2가지 데이터 수집\n",
    "2. 수집된 데이터를 엑셀(.xlsx) 형식으로 저장"
   ]
  },
  {
   "cell_type": "code",
   "execution_count": 1,
   "metadata": {},
   "outputs": [],
   "source": [
    "import requests\n",
    "from bs4 import BeautifulSoup as bs\n",
    "import pandas as pd"
   ]
  },
  {
   "cell_type": "code",
   "execution_count": 2,
   "metadata": {},
   "outputs": [],
   "source": [
    "h = {\n",
    "    \"user-agent\" :\"Mozilla/5.0 (Windows NT 10.0; Win64; x64) AppleWebKit/537.36 (KHTML, like Gecko) Chrome/110.0.0.0 Safari/537.36\"\n",
    "}"
   ]
  },
  {
   "cell_type": "code",
   "execution_count": 3,
   "metadata": {},
   "outputs": [],
   "source": [
    "melon_url = 'https://www.melon.com/chart/index.htm'\n",
    "# <Response [406]>\n",
    "# \n",
    "res = requests.get(melon_url, headers = h)\n"
   ]
  },
  {
   "cell_type": "code",
   "execution_count": 4,
   "metadata": {},
   "outputs": [],
   "source": [
    "soup = bs(res.text, 'lxml')\n"
   ]
  },
  {
   "cell_type": "code",
   "execution_count": 5,
   "metadata": {},
   "outputs": [
    {
     "data": {
      "text/plain": [
       "bs4.element.ResultSet"
      ]
     },
     "execution_count": 5,
     "metadata": {},
     "output_type": "execute_result"
    }
   ],
   "source": [
    "test = soup.select('.ellipsis.rank01')\n",
    "type(test)"
   ]
  },
  {
   "cell_type": "code",
   "execution_count": 6,
   "metadata": {},
   "outputs": [],
   "source": [
    "temp = []\n",
    "for song in test:\n",
    "    temp.append(song.text.strip())"
   ]
  },
  {
   "cell_type": "code",
   "execution_count": 7,
   "metadata": {},
   "outputs": [
    {
     "data": {
      "text/plain": [
       "100"
      ]
     },
     "execution_count": 7,
     "metadata": {},
     "output_type": "execute_result"
    }
   ],
   "source": [
    "song = soup.select('.ellipsis.rank01')\n",
    "len(song)\n"
   ]
  },
  {
   "cell_type": "code",
   "execution_count": 44,
   "metadata": {},
   "outputs": [
    {
     "data": {
      "text/plain": [
       "[<span class=\"checkEllipsis\" style=\"display:none\"><a href=\"javascript:melon.link.goArtistDetail('3114174');\" title=\"NewJeans - 페이지 이동\">NewJeans</a></span>,\n",
       " <span class=\"checkEllipsis\" style=\"display:none\"><a href=\"javascript:melon.link.goArtistDetail('3114174');\" title=\"NewJeans - 페이지 이동\">NewJeans</a></span>,\n",
       " <span class=\"checkEllipsis\" style=\"display:none\"><a href=\"javascript:melon.link.goArtistDetail('3114174');\" title=\"NewJeans - 페이지 이동\">NewJeans</a></span>,\n",
       " <span class=\"checkEllipsis\" style=\"display:none\"><a href=\"javascript:melon.link.goArtistDetail('2112233');\" title=\"부석순 (SEVENTEEN) - 페이지 이동\">부석순 (SEVENTEEN)</a></span>,\n",
       " <span class=\"checkEllipsis\" style=\"display:none\"><a href=\"javascript:melon.link.goArtistDetail('203912');\" title=\"윤하 (YOUNHA) - 페이지 이동\">윤하 (YOUNHA)</a></span>,\n",
       " <span class=\"checkEllipsis\" style=\"display:none\"><a href=\"javascript:melon.link.goArtistDetail('247621');\" title=\"태양 - 페이지 이동\">태양</a></span>,\n",
       " <span class=\"checkEllipsis\" style=\"display:none\"><a href=\"javascript:melon.link.goArtistDetail('2632253');\" title=\"투모로우바이투게더 - 페이지 이동\">투모로우바이투게더</a></span>,\n",
       " <span class=\"checkEllipsis\" style=\"display:none\"><a href=\"javascript:melon.link.goArtistDetail('3114174');\" title=\"NewJeans - 페이지 이동\">NewJeans</a></span>,\n",
       " <span class=\"checkEllipsis\" style=\"display:none\"><a href=\"javascript:melon.link.goArtistDetail('3092950');\" title=\"LE SSERAFIM (르세라핌) - 페이지 이동\">LE SSERAFIM (르세라핌)</a></span>,\n",
       " <span class=\"checkEllipsis\" style=\"display:none\"><a href=\"javascript:melon.link.goArtistDetail('994944');\" title=\"임영웅 - 페이지 이동\">임영웅</a></span>,\n",
       " <span class=\"checkEllipsis\" style=\"display:none\"><a href=\"javascript:melon.link.goArtistDetail('3055146');\" title=\"IVE (아이브) - 페이지 이동\">IVE (아이브)</a></span>,\n",
       " <span class=\"checkEllipsis\" style=\"display:none\"><a href=\"javascript:melon.link.goArtistDetail('838654');\" title=\"Charlie Puth - 페이지 이동\">Charlie Puth</a></span>,\n",
       " <span class=\"checkEllipsis\" style=\"display:none\"><a href=\"javascript:melon.link.goArtistDetail('994944');\" title=\"임영웅 - 페이지 이동\">임영웅</a></span>,\n",
       " <span class=\"checkEllipsis\" style=\"display:none\"><a href=\"javascript:melon.link.goArtistDetail('994944');\" title=\"임영웅 - 페이지 이동\">임영웅</a></span>,\n",
       " <span class=\"checkEllipsis\" style=\"display:none\"><a href=\"javascript:melon.link.goArtistDetail('1066419');\" title=\"NCT DREAM - 페이지 이동\">NCT DREAM</a></span>,\n",
       " <span class=\"checkEllipsis\" style=\"display:none\"><a href=\"javascript:melon.link.goArtistDetail('2899290');\" title=\"STAYC(스테이씨) - 페이지 이동\">STAYC(스테이씨)</a></span>,\n",
       " <span class=\"checkEllipsis\" style=\"display:none\"><a href=\"javascript:melon.link.goArtistDetail('3055146');\" title=\"IVE (아이브) - 페이지 이동\">IVE (아이브)</a></span>,\n",
       " <span class=\"checkEllipsis\" style=\"display:none\"><a href=\"javascript:melon.link.goArtistDetail('994944');\" title=\"임영웅 - 페이지 이동\">임영웅</a></span>,\n",
       " <span class=\"checkEllipsis\" style=\"display:none\"><a href=\"javascript:melon.link.goArtistDetail('994944');\" title=\"임영웅 - 페이지 이동\">임영웅</a></span>,\n",
       " <span class=\"checkEllipsis\" style=\"display:none\"><a href=\"javascript:melon.link.goArtistDetail('994944');\" title=\"임영웅 - 페이지 이동\">임영웅</a></span>,\n",
       " <span class=\"checkEllipsis\" style=\"display:none\"><a href=\"javascript:melon.link.goArtistDetail('994944');\" title=\"임영웅 - 페이지 이동\">임영웅</a></span>,\n",
       " <span class=\"checkEllipsis\" style=\"display:none\"><a href=\"javascript:melon.link.goArtistDetail('2137482');\" title=\"(여자)아이들 - 페이지 이동\">(여자)아이들</a></span>,\n",
       " <span class=\"checkEllipsis\" style=\"display:none\"><a href=\"javascript:melon.link.goArtistDetail('994944');\" title=\"임영웅 - 페이지 이동\">임영웅</a></span>,\n",
       " <span class=\"checkEllipsis\" style=\"display:none\"><a href=\"javascript:melon.link.goArtistDetail('3305');\" title=\"성시경 - 페이지 이동\">성시경</a></span>,\n",
       " <span class=\"checkEllipsis\" style=\"display:none\"><a href=\"javascript:melon.link.goArtistDetail('839732');\" title=\"멜로망스 - 페이지 이동\">멜로망스</a></span>,\n",
       " <span class=\"checkEllipsis\" style=\"display:none\"><a href=\"javascript:melon.link.goArtistDetail('994944');\" title=\"임영웅 - 페이지 이동\">임영웅</a></span>,\n",
       " <span class=\"checkEllipsis\" style=\"display:none\"><a href=\"javascript:melon.link.goArtistDetail('994944');\" title=\"임영웅 - 페이지 이동\">임영웅</a></span>,\n",
       " <span class=\"checkEllipsis\" style=\"display:none\"><a href=\"javascript:melon.link.goArtistDetail('3114174');\" title=\"NewJeans - 페이지 이동\">NewJeans</a></span>,\n",
       " <span class=\"checkEllipsis\" style=\"display:none\"><a href=\"javascript:melon.link.goArtistDetail('51893');\" title=\"테이 - 페이지 이동\">테이</a></span>,\n",
       " <span class=\"checkEllipsis\" style=\"display:none\"><a href=\"javascript:melon.link.goArtistDetail('602056');\" title=\"지코 (ZICO) - 페이지 이동\">지코 (ZICO)</a></span>,\n",
       " <span class=\"checkEllipsis\" style=\"display:none\"><a href=\"javascript:melon.link.goArtistDetail('2740042');\" title=\"신예영 - 페이지 이동\">신예영</a></span>,\n",
       " <span class=\"checkEllipsis\" style=\"display:none\"><a href=\"javascript:melon.link.goArtistDetail('994944');\" title=\"임영웅 - 페이지 이동\">임영웅</a></span>,\n",
       " <span class=\"checkEllipsis\" style=\"display:none\"><a href=\"javascript:melon.link.goArtistDetail('2636153');\" title=\"이영지 - 페이지 이동\">이영지</a></span>,\n",
       " <span class=\"checkEllipsis\" style=\"display:none\"><a href=\"javascript:melon.link.goArtistDetail('994944');\" title=\"임영웅 - 페이지 이동\">임영웅</a></span>,\n",
       " <span class=\"checkEllipsis\" style=\"display:none\"><a href=\"javascript:melon.link.goArtistDetail('2632253');\" title=\"투모로우바이투게더 - 페이지 이동\">투모로우바이투게더</a></span>,\n",
       " <span class=\"checkEllipsis\" style=\"display:none\"><a href=\"javascript:melon.link.goArtistDetail('994944');\" title=\"임영웅 - 페이지 이동\">임영웅</a></span>,\n",
       " <span class=\"checkEllipsis\" style=\"display:none\"><a href=\"javascript:melon.link.goArtistDetail('2632253');\" title=\"투모로우바이투게더 - 페이지 이동\">투모로우바이투게더</a></span>,\n",
       " <span class=\"checkEllipsis\" style=\"display:none\"><a href=\"javascript:melon.link.goArtistDetail('1024489');\" title=\"#안녕 - 페이지 이동\">#안녕</a></span>,\n",
       " <span class=\"checkEllipsis\" style=\"display:none\"><a href=\"javascript:melon.link.goArtistDetail('674710');\" title=\"Crush - 페이지 이동\">Crush</a></span>,\n",
       " <span class=\"checkEllipsis\" style=\"display:none\"><a href=\"javascript:melon.link.goArtistDetail('838654');\" title=\"Charlie Puth - 페이지 이동\">Charlie Puth</a></span>,\n",
       " <span class=\"checkEllipsis\" style=\"display:none\"><a href=\"javascript:melon.link.goArtistDetail('718042');\" title=\"Sam Smith - 페이지 이동\">Sam Smith</a>, <a href=\"javascript:melon.link.goArtistDetail('2559079');\" title=\"Kim Petras - 페이지 이동\">Kim Petras</a></span>,\n",
       " <span class=\"checkEllipsis\" style=\"display:none\"><a href=\"javascript:melon.link.goArtistDetail('995169');\" title=\"BLACKPINK - 페이지 이동\">BLACKPINK</a></span>,\n",
       " <span class=\"checkEllipsis\" style=\"display:none\"><a href=\"javascript:melon.link.goArtistDetail('2632253');\" title=\"투모로우바이투게더 - 페이지 이동\">투모로우바이투게더</a></span>,\n",
       " <span class=\"checkEllipsis\" style=\"display:none\"><a href=\"javascript:melon.link.goArtistDetail('2740042');\" title=\"신예영 - 페이지 이동\">신예영</a></span>,\n",
       " <span class=\"checkEllipsis\" style=\"display:none\"><a href=\"javascript:melon.link.goArtistDetail('673033');\" title=\"우디 (Woody) - 페이지 이동\">우디 (Woody)</a></span>,\n",
       " <span class=\"checkEllipsis\" style=\"display:none\"><a href=\"javascript:melon.link.goArtistDetail('3092950');\" title=\"LE SSERAFIM (르세라핌) - 페이지 이동\">LE SSERAFIM (르세라핌)</a></span>,\n",
       " <span class=\"checkEllipsis\" style=\"display:none\"><a href=\"javascript:melon.link.goArtistDetail('2743730');\" title=\"The Kid LAROI - 페이지 이동\">The Kid LAROI</a>, <a href=\"javascript:melon.link.goArtistDetail('420621');\" title=\"Justin Bieber - 페이지 이동\">Justin Bieber</a></span>,\n",
       " <span class=\"checkEllipsis\" style=\"display:none\"><a href=\"javascript:melon.link.goArtistDetail('2137482');\" title=\"(여자)아이들 - 페이지 이동\">(여자)아이들</a></span>,\n",
       " <span class=\"checkEllipsis\" style=\"display:none\"><a href=\"javascript:melon.link.goArtistDetail('683631');\" title=\"주호 - 페이지 이동\">주호</a></span>,\n",
       " <span class=\"checkEllipsis\" style=\"display:none\"><a href=\"javascript:melon.link.goArtistDetail('2112233');\" title=\"부석순 (SEVENTEEN) - 페이지 이동\">부석순 (SEVENTEEN)</a></span>,\n",
       " <span class=\"checkEllipsis\" style=\"display:none\"><a href=\"javascript:melon.link.goArtistDetail('994944');\" title=\"임영웅 - 페이지 이동\">임영웅</a></span>,\n",
       " <span class=\"checkEllipsis\" style=\"display:none\"><a href=\"javascript:melon.link.goArtistDetail('995169');\" title=\"BLACKPINK - 페이지 이동\">BLACKPINK</a></span>,\n",
       " <span class=\"checkEllipsis\" style=\"display:none\"><a href=\"javascript:melon.link.goArtistDetail('2632253');\" title=\"투모로우바이투게더 - 페이지 이동\">투모로우바이투게더</a></span>,\n",
       " <span class=\"checkEllipsis\" style=\"display:none\"><a href=\"javascript:melon.link.goArtistDetail('839736');\" title=\"김민석 (멜로망스) - 페이지 이동\">김민석 (멜로망스)</a></span>,\n",
       " <span class=\"checkEllipsis\" style=\"display:none\"><a href=\"javascript:melon.link.goArtistDetail('2632253');\" title=\"투모로우바이투게더 - 페이지 이동\">투모로우바이투게더</a></span>,\n",
       " <span class=\"checkEllipsis\" style=\"display:none\"><a href=\"javascript:melon.link.goArtistDetail('725987');\" title=\"정국 - 페이지 이동\">정국</a>, <a href=\"javascript:melon.link.goArtistDetail('672375');\" title=\"방탄소년단 - 페이지 이동\">방탄소년단</a></span>,\n",
       " <span class=\"checkEllipsis\" style=\"display:none\"><a href=\"javascript:melon.link.goArtistDetail('722098');\" title=\"송하예 - 페이지 이동\">송하예</a></span>,\n",
       " <span class=\"checkEllipsis\" style=\"display:none\"><a href=\"javascript:melon.link.goArtistDetail('3110856');\" title=\"WSG워너비 (가야G) - 페이지 이동\">WSG워너비 (가야G)</a></span>,\n",
       " <span class=\"checkEllipsis\" style=\"display:none\"><a href=\"javascript:melon.link.goArtistDetail('672375');\" title=\"방탄소년단 - 페이지 이동\">방탄소년단</a></span>,\n",
       " <span class=\"checkEllipsis\" style=\"display:none\"><a href=\"javascript:melon.link.goArtistDetail('2645970');\" title=\"최유리 - 페이지 이동\">최유리</a></span>,\n",
       " <span class=\"checkEllipsis\" style=\"display:none\"><a href=\"javascript:melon.link.goArtistDetail('236797');\" title=\"태연 (TAEYEON) - 페이지 이동\">태연 (TAEYEON)</a></span>,\n",
       " <span class=\"checkEllipsis\" style=\"display:none\"><a href=\"javascript:melon.link.goArtistDetail('683631');\" title=\"주호 - 페이지 이동\">주호</a></span>,\n",
       " <span class=\"checkEllipsis\" style=\"display:none\"><a href=\"javascript:melon.link.goArtistDetail('468244');\" title=\"10CM - 페이지 이동\">10CM</a></span>,\n",
       " <span class=\"checkEllipsis\" style=\"display:none\"><a href=\"javascript:melon.link.goArtistDetail('2899290');\" title=\"STAYC(스테이씨) - 페이지 이동\">STAYC(스테이씨)</a></span>,\n",
       " <span class=\"checkEllipsis\" style=\"display:none\"><a href=\"javascript:melon.link.goArtistDetail('2863470');\" title=\"경서예지 - 페이지 이동\">경서예지</a>, <a href=\"javascript:melon.link.goArtistDetail('2739011');\" title=\"전건호 - 페이지 이동\">전건호</a></span>,\n",
       " <span class=\"checkEllipsis\" style=\"display:none\"><a href=\"javascript:melon.link.goArtistDetail('3055146');\" title=\"IVE (아이브) - 페이지 이동\">IVE (아이브)</a></span>,\n",
       " <span class=\"checkEllipsis\" style=\"display:none\"><a href=\"javascript:melon.link.goArtistDetail('203912');\" title=\"윤하 (YOUNHA) - 페이지 이동\">윤하 (YOUNHA)</a></span>,\n",
       " <span class=\"checkEllipsis\" style=\"display:none\"><a href=\"javascript:melon.link.goArtistDetail('752425');\" title=\"폴킴 - 페이지 이동\">폴킴</a></span>,\n",
       " <span class=\"checkEllipsis\" style=\"display:none\"><a href=\"javascript:melon.link.goArtistDetail('2744750');\" title=\"BIG Naughty (서동현) - 페이지 이동\">BIG Naughty (서동현)</a></span>,\n",
       " <span class=\"checkEllipsis\" style=\"display:none\"><a href=\"javascript:melon.link.goArtistDetail('786499');\" title=\"저스디스 (JUSTHIS) - 페이지 이동\">저스디스 (JUSTHIS)</a>, <a href=\"javascript:melon.link.goArtistDetail('633071');\" title=\"R.Tee - 페이지 이동\">R.Tee</a>, <a href=\"javascript:melon.link.goArtistDetail('789943');\" title=\"던말릭 (DON MALIK) - 페이지 이동\">던말릭 (DON MALIK)</a>, <a href=\"javascript:melon.link.goArtistDetail('2190397');\" title=\"허성현 (Huh) - 페이지 이동\">허성현 (Huh)</a>, <a href=\"javascript:melon.link.goArtistDetail('2741140');\" title=\"KHAN - 페이지 이동\">KHAN</a>, <a href=\"javascript:melon.link.goArtistDetail('774027');\" title=\"맥대디 (Mckdaddy) - 페이지 이동\">맥대디 (Mckdaddy)</a>, <a href=\"javascript:melon.link.goArtistDetail('1628539');\" title=\"로스 (Los) - 페이지 이동\">로스 (Los)</a></span>,\n",
       " <span class=\"checkEllipsis\" style=\"display:none\"><a href=\"javascript:melon.link.goArtistDetail('994005');\" title=\"경서 - 페이지 이동\">경서</a></span>,\n",
       " <span class=\"checkEllipsis\" style=\"display:none\"><a href=\"javascript:melon.link.goArtistDetail('468244');\" title=\"10CM - 페이지 이동\">10CM</a>, <a href=\"javascript:melon.link.goArtistDetail('2744750');\" title=\"BIG Naughty (서동현) - 페이지 이동\">BIG Naughty (서동현)</a></span>,\n",
       " <span class=\"checkEllipsis\" style=\"display:none\"><a href=\"javascript:melon.link.goArtistDetail('838654');\" title=\"Charlie Puth - 페이지 이동\">Charlie Puth</a></span>,\n",
       " <span class=\"checkEllipsis\" style=\"display:none\"><a href=\"javascript:melon.link.goArtistDetail('3865');\" title=\"싸이 (PSY) - 페이지 이동\">싸이 (PSY)</a></span>,\n",
       " <span class=\"checkEllipsis\" style=\"display:none\"><a href=\"javascript:melon.link.goArtistDetail('672375');\" title=\"방탄소년단 - 페이지 이동\">방탄소년단</a></span>,\n",
       " <span class=\"checkEllipsis\" style=\"display:none\"><a href=\"javascript:melon.link.goArtistDetail('2758756');\" title=\"BE'O (비오) - 페이지 이동\">BE'O (비오)</a></span>,\n",
       " <span class=\"checkEllipsis\" style=\"display:none\"><a href=\"javascript:melon.link.goArtistDetail('991413');\" title=\"NCT 127 - 페이지 이동\">NCT 127</a></span>,\n",
       " <span class=\"checkEllipsis\" style=\"display:none\"><a href=\"javascript:melon.link.goArtistDetail('718655');\" title=\"이예준 - 페이지 이동\">이예준</a></span>,\n",
       " <span class=\"checkEllipsis\" style=\"display:none\"><a href=\"javascript:melon.link.goArtistDetail('672375');\" title=\"방탄소년단 - 페이지 이동\">방탄소년단</a></span>,\n",
       " <span class=\"checkEllipsis\" style=\"display:none\"><a href=\"javascript:melon.link.goArtistDetail('471741');\" title=\"임한별 - 페이지 이동\">임한별</a></span>,\n",
       " <span class=\"checkEllipsis\" style=\"display:none\"><a href=\"javascript:melon.link.goArtistDetail('994005');\" title=\"경서 - 페이지 이동\">경서</a></span>,\n",
       " <span class=\"checkEllipsis\" style=\"display:none\"><a href=\"javascript:melon.link.goArtistDetail('1816126');\" title=\"더보이즈 (THE BOYZ) - 페이지 이동\">더보이즈 (THE BOYZ)</a></span>,\n",
       " <span class=\"checkEllipsis\" style=\"display:none\"><a href=\"javascript:melon.link.goArtistDetail('2632253');\" title=\"투모로우바이투게더 - 페이지 이동\">투모로우바이투게더</a></span>,\n",
       " <span class=\"checkEllipsis\" style=\"display:none\"><a href=\"javascript:melon.link.goArtistDetail('3110857');\" title=\"WSG워너비(4FIRE) - 페이지 이동\">WSG워너비(4FIRE)</a></span>,\n",
       " <span class=\"checkEllipsis\" style=\"display:none\"><a href=\"javascript:melon.link.goArtistDetail('2113114');\" title=\"백아 - 페이지 이동\">백아</a></span>,\n",
       " <span class=\"checkEllipsis\" style=\"display:none\"><a href=\"javascript:melon.link.goArtistDetail('222128');\" title=\"카라 - 페이지 이동\">카라</a></span>,\n",
       " <span class=\"checkEllipsis\" style=\"display:none\"><a href=\"javascript:melon.link.goArtistDetail('2758756');\" title=\"BE'O (비오) - 페이지 이동\">BE'O (비오)</a></span>,\n",
       " <span class=\"checkEllipsis\" style=\"display:none\"><a href=\"javascript:melon.link.goArtistDetail('420621');\" title=\"Justin Bieber - 페이지 이동\">Justin Bieber</a></span>,\n",
       " <span class=\"checkEllipsis\" style=\"display:none\"><a href=\"javascript:melon.link.goArtistDetail('861436');\" title=\"세븐틴 - 페이지 이동\">세븐틴</a></span>,\n",
       " <span class=\"checkEllipsis\" style=\"display:none\"><a href=\"javascript:melon.link.goArtistDetail('198094');\" title=\"BIGBANG (빅뱅) - 페이지 이동\">BIGBANG (빅뱅)</a></span>,\n",
       " <span class=\"checkEllipsis\" style=\"display:none\"><a href=\"javascript:melon.link.goArtistDetail('2744750');\" title=\"BIG Naughty (서동현) - 페이지 이동\">BIG Naughty (서동현)</a></span>,\n",
       " <span class=\"checkEllipsis\" style=\"display:none\"><a href=\"javascript:melon.link.goArtistDetail('720018');\" title=\"김호중 - 페이지 이동\">김호중</a></span>,\n",
       " <span class=\"checkEllipsis\" style=\"display:none\"><a href=\"javascript:melon.link.goArtistDetail('524801');\" title=\"DK(디셈버) - 페이지 이동\">DK(디셈버)</a></span>,\n",
       " <span class=\"checkEllipsis\" style=\"display:none\"><a href=\"javascript:melon.link.goArtistDetail('2112233');\" title=\"부석순 (SEVENTEEN) - 페이지 이동\">부석순 (SEVENTEEN)</a></span>,\n",
       " <span class=\"checkEllipsis\" style=\"display:none\"><a href=\"javascript:melon.link.goArtistDetail('2632253');\" title=\"투모로우바이투게더 - 페이지 이동\">투모로우바이투게더</a></span>,\n",
       " <span class=\"checkEllipsis\" style=\"display:none\"><a href=\"javascript:melon.link.goArtistDetail('720018');\" title=\"김호중 - 페이지 이동\">김호중</a>, <a href=\"javascript:melon.link.goArtistDetail('1701869');\" title=\"송가인 - 페이지 이동\">송가인</a></span>,\n",
       " <span class=\"checkEllipsis\" style=\"display:none\"><a href=\"javascript:melon.link.goArtistDetail('827322');\" title=\"김승민 - 페이지 이동\">김승민</a></span>,\n",
       " <span class=\"checkEllipsis\" style=\"display:none\"><a href=\"javascript:melon.link.goArtistDetail('695994');\" title=\"양다일 - 페이지 이동\">양다일</a></span>,\n",
       " <span class=\"checkEllipsis\" style=\"display:none\"><a href=\"javascript:melon.link.goArtistDetail('672375');\" title=\"방탄소년단 - 페이지 이동\">방탄소년단</a></span>,\n",
       " <span class=\"checkEllipsis\" style=\"display:none\"><a href=\"javascript:melon.link.goArtistDetail('772253');\" title=\"잔나비 - 페이지 이동\">잔나비</a></span>]"
      ]
     },
     "execution_count": 44,
     "metadata": {},
     "output_type": "execute_result"
    }
   ],
   "source": [
    "singer = soup.select('.checkEllipsis')\n",
    "singer\n"
   ]
  },
  {
   "cell_type": "code",
   "execution_count": 9,
   "metadata": {},
   "outputs": [],
   "source": [
    "# '노래' 수집하기\n",
    "song_list = []\n",
    "\n",
    "for s in song:\n",
    "    song_list.append(s.text.strip())\n",
    "    "
   ]
  },
  {
   "cell_type": "code",
   "execution_count": 10,
   "metadata": {},
   "outputs": [],
   "source": [
    "# '가수' 수집하기\n",
    "singer_list = []\n",
    "for x in singer:\n",
    "    singer_list.append(x.text)"
   ]
  },
  {
   "cell_type": "code",
   "execution_count": 11,
   "metadata": {},
   "outputs": [
    {
     "data": {
      "text/plain": [
       "100"
      ]
     },
     "execution_count": 11,
     "metadata": {},
     "output_type": "execute_result"
    }
   ],
   "source": [
    "len(singer_list)"
   ]
  },
  {
   "cell_type": "code",
   "execution_count": 65,
   "metadata": {},
   "outputs": [],
   "source": [
    "# 빈 리스트 생성하기 : sonList2, artistList2\n",
    "\n",
    "song_list2 = []\n",
    "\n",
    "for s in song:\n",
    "    song_list2.append(s.text.strip())\n",
    "    \n",
    "singer_list2 = []\n",
    "for x in singer:\n",
    "    singer_list2.append(x.text.strip())"
   ]
  },
  {
   "cell_type": "code",
   "execution_count": 66,
   "metadata": {},
   "outputs": [
    {
     "name": "stdout",
     "output_type": "stream",
     "text": [
      "100\n",
      "100\n"
     ]
    }
   ],
   "source": [
    "print(len(singer_list2))\n",
    "print(len(song_list2))"
   ]
  },
  {
   "attachments": {},
   "cell_type": "markdown",
   "metadata": {},
   "source": [
    "#### 3. 2개의 리스트를 활용해서 딕셔너리 생성하기"
   ]
  },
  {
   "cell_type": "code",
   "execution_count": 138,
   "metadata": {},
   "outputs": [],
   "source": [
    "dict = {}"
   ]
  },
  {
   "cell_type": "code",
   "execution_count": 146,
   "metadata": {},
   "outputs": [
    {
     "data": {
      "text/html": [
       "<div>\n",
       "<style scoped>\n",
       "    .dataframe tbody tr th:only-of-type {\n",
       "        vertical-align: middle;\n",
       "    }\n",
       "\n",
       "    .dataframe tbody tr th {\n",
       "        vertical-align: top;\n",
       "    }\n",
       "\n",
       "    .dataframe thead th {\n",
       "        text-align: right;\n",
       "    }\n",
       "</style>\n",
       "<table border=\"1\" class=\"dataframe\">\n",
       "  <thead>\n",
       "    <tr style=\"text-align: right;\">\n",
       "      <th></th>\n",
       "      <th>곡명</th>\n",
       "      <th>가수</th>\n",
       "    </tr>\n",
       "  </thead>\n",
       "  <tbody>\n",
       "    <tr>\n",
       "      <th>0</th>\n",
       "      <td>Ditto</td>\n",
       "      <td>NewJeans</td>\n",
       "    </tr>\n",
       "    <tr>\n",
       "      <th>1</th>\n",
       "      <td>OMG</td>\n",
       "      <td>NewJeans</td>\n",
       "    </tr>\n",
       "    <tr>\n",
       "      <th>2</th>\n",
       "      <td>Hype boy</td>\n",
       "      <td>NewJeans</td>\n",
       "    </tr>\n",
       "    <tr>\n",
       "      <th>3</th>\n",
       "      <td>파이팅 해야지 (Feat. 이영지)</td>\n",
       "      <td>부석순 (SEVENTEEN)</td>\n",
       "    </tr>\n",
       "    <tr>\n",
       "      <th>4</th>\n",
       "      <td>사건의 지평선</td>\n",
       "      <td>윤하 (YOUNHA)</td>\n",
       "    </tr>\n",
       "  </tbody>\n",
       "</table>\n",
       "</div>"
      ],
      "text/plain": [
       "                    곡명               가수\n",
       "0                Ditto         NewJeans\n",
       "1                  OMG         NewJeans\n",
       "2             Hype boy         NewJeans\n",
       "3  파이팅 해야지 (Feat. 이영지)  부석순 (SEVENTEEN)\n",
       "4              사건의 지평선      윤하 (YOUNHA)"
      ]
     },
     "execution_count": 146,
     "metadata": {},
     "output_type": "execute_result"
    }
   ],
   "source": [
    "melon_dic = {\"곡명\":song_list2,\"가수\":singer_list2}\n",
    "\n",
    "melon_df = pd.DataFrame(melon_dic)\n",
    "\n",
    "melon_df.head()\n"
   ]
  },
  {
   "cell_type": "code",
   "execution_count": 149,
   "metadata": {},
   "outputs": [],
   "source": [
    "# 5. 엑셀 파일로 저장하기(.xlsx)\n",
    "\n",
    "melon_df.to_excel('./melon_df.xlsx')"
   ]
  },
  {
   "attachments": {},
   "cell_type": "markdown",
   "metadata": {},
   "source": [
    "code"
   ]
  },
  {
   "cell_type": "code",
   "execution_count": 139,
   "metadata": {},
   "outputs": [],
   "source": [
    "for i in range(100):\n",
    "    dict[f\"{i+1}위\"] = ([song_list2[i], singer_list[i]])"
   ]
  },
  {
   "cell_type": "code",
   "execution_count": 140,
   "metadata": {},
   "outputs": [
    {
     "data": {
      "text/plain": [
       "{'1위': ['Ditto', 'NewJeans'],\n",
       " '2위': ['OMG', 'NewJeans'],\n",
       " '3위': ['Hype boy', 'NewJeans'],\n",
       " '4위': ['파이팅 해야지 (Feat. 이영지)', '부석순 (SEVENTEEN)'],\n",
       " '5위': ['사건의 지평선', '윤하 (YOUNHA)'],\n",
       " '6위': ['VIBE (feat. Jimin of BTS)', '태양'],\n",
       " '7위': ['Sugar Rush Ride', '투모로우바이투게더'],\n",
       " '8위': ['Attention', 'NewJeans'],\n",
       " '9위': ['ANTIFRAGILE', 'LE SSERAFIM (르세라핌)'],\n",
       " '10위': ['사랑은 늘 도망가', '임영웅'],\n",
       " '11위': ['After LIKE', 'IVE (아이브)'],\n",
       " '12위': [\"I Don't Think That I Like Her\", 'Charlie Puth'],\n",
       " '13위': ['우리들의 블루스', '임영웅'],\n",
       " '14위': ['다시 만날 수 있을까', '임영웅'],\n",
       " '15위': ['Candy', 'NCT DREAM'],\n",
       " '16위': ['Teddy Bear', 'STAYC(스테이씨)'],\n",
       " '17위': ['LOVE DIVE', 'IVE (아이브)'],\n",
       " '18위': ['London Boy', '임영웅'],\n",
       " '19위': ['Polaroid', '임영웅'],\n",
       " '20위': ['무지개', '임영웅'],\n",
       " '21위': ['이제 나만 믿어요', '임영웅'],\n",
       " '22위': ['Nxde', '(여자)아이들'],\n",
       " '23위': ['아버지', '임영웅'],\n",
       " '24위': ['너의 모든 순간', '성시경'],\n",
       " '25위': ['사랑인가 봐', '멜로망스'],\n",
       " '26위': ['A bientot', '임영웅'],\n",
       " '27위': ['인생찬가', '임영웅'],\n",
       " '28위': ['Cookie', 'NewJeans'],\n",
       " '29위': ['Monologue', '테이'],\n",
       " '30위': ['새삥 (Prod. ZICO) (Feat. 호미들)', '지코 (ZICO)'],\n",
       " '31위': ['네가 보고 싶은 건 자연스러운 거겠지', '신예영'],\n",
       " '32위': ['손이 참 곱던 그대', '임영웅'],\n",
       " '33위': ['NOT SORRY (Feat. pH-1) (Prod. by Slom)', '이영지'],\n",
       " '34위': ['사랑해 진짜', '임영웅'],\n",
       " '35위': ['Devil by the Window', '투모로우바이투게더'],\n",
       " '36위': ['연애편지', '임영웅'],\n",
       " '37위': ['이젠 안녕', '투모로우바이투게더'],\n",
       " '38위': ['해요 (2022)', '#안녕'],\n",
       " '39위': ['Rush Hour (Feat. j-hope of BTS)', 'Crush'],\n",
       " '40위': [\"That's Hilarious\", 'Charlie Puth'],\n",
       " '41위': ['Unholy', 'Sam Smith, Kim Petras'],\n",
       " '42위': ['Shut Down', 'BLACKPINK'],\n",
       " '43위': ['네버랜드를 떠나며', '투모로우바이투게더'],\n",
       " '44위': ['마지막 사랑', '신예영'],\n",
       " '45위': ['Say I Love You', '우디 (Woody)'],\n",
       " '46위': ['FEARLESS', 'LE SSERAFIM (르세라핌)'],\n",
       " '47위': ['STAY', 'The Kid LAROI, Justin Bieber'],\n",
       " '48위': ['TOMBOY', '(여자)아이들'],\n",
       " '49위': ['내가 아니라도', '주호'],\n",
       " '50위': ['7시에 들어줘 (Feat. Peder Elias)', '부석순 (SEVENTEEN)'],\n",
       " '51위': ['보금자리', '임영웅'],\n",
       " '52위': ['Pink Venom', 'BLACKPINK'],\n",
       " '53위': ['Tinnitus (돌멩이가 되고 싶어)', '투모로우바이투게더'],\n",
       " '54위': ['취중고백', '김민석 (멜로망스)'],\n",
       " '55위': ['Happy Fools (feat. Coi Leray)', '투모로우바이투게더'],\n",
       " '56위': ['Dreamers [Music from the FIFA World Cup Qatar 2022 Official Soundtrack] (Feat. FIFA Sound)',\n",
       "  '정국, 방탄소년단'],\n",
       " '57위': ['그대를 알고', '송하예'],\n",
       " '58위': ['그때 그 순간 그대로 (그그그)', 'WSG워너비 (가야G)'],\n",
       " '59위': ['Dynamite', '방탄소년단'],\n",
       " '60위': ['그댄 행복에 살텐데 (2022)', '최유리'],\n",
       " '61위': ['혼자서 걸어요 (Prod. by 나얼)', '태연 (TAEYEON)'],\n",
       " '62위': ['잘가요', '주호'],\n",
       " '63위': ['그라데이션', '10CM'],\n",
       " '64위': ['Poppy (Korean Ver.)', 'STAYC(스테이씨)'],\n",
       " '65위': ['다정히 내 이름을 부르면', '경서예지, 전건호'],\n",
       " '66위': ['ELEVEN', 'IVE (아이브)'],\n",
       " '67위': ['오르트구름', '윤하 (YOUNHA)'],\n",
       " '68위': ['모든 날, 모든 순간 (Every day, Every Moment)', '폴킴'],\n",
       " '69위': ['정이라고 하자 (Feat. 10CM)', 'BIG Naughty (서동현)'],\n",
       " '70위': ['마이웨이 (MY WAY) (Prod. R.Tee)',\n",
       "  '저스디스 (JUSTHIS), R.Tee, 던말릭 (DON MALIK), 허성현 (Huh), KHAN, 맥대디 (Mckdaddy), 로스 (Los)'],\n",
       " '71위': ['나의 X에게', '경서'],\n",
       " '72위': ['딱 10CM만', '10CM, BIG Naughty (서동현)'],\n",
       " '73위': ['Dangerously', 'Charlie Puth'],\n",
       " '74위': ['That That (prod. & feat. SUGA of BTS)', '싸이 (PSY)'],\n",
       " '75위': ['봄날', '방탄소년단'],\n",
       " '76위': ['자격지심 (Feat. ZICO)', \"BE'O (비오)\"],\n",
       " '77위': ['Ay-Yo', 'NCT 127'],\n",
       " '78위': ['니 번호가 뜨는 일', '이예준'],\n",
       " '79위': ['Butter', '방탄소년단'],\n",
       " '80위': ['떠나보낼 준비해 둘걸 그랬어', '임한별'],\n",
       " '81위': ['밤하늘의 별을(2020)', '경서'],\n",
       " '82위': ['ROAR', '더보이즈 (THE BOYZ)'],\n",
       " '83위': ['Good Boy Gone Bad', '투모로우바이투게더'],\n",
       " '84위': ['보고싶었어', 'WSG워너비(4FIRE)'],\n",
       " '85위': ['첫사랑', '백아'],\n",
       " '86위': ['WHEN I MOVE', '카라'],\n",
       " '87위': ['LOVE me', \"BE'O (비오)\"],\n",
       " '88위': ['Off My Face', 'Justin Bieber'],\n",
       " '89위': ['HOT', '세븐틴'],\n",
       " '90위': ['봄여름가을겨울 (Still Life)', 'BIGBANG (빅뱅)'],\n",
       " '91위': ['친구로 지내다 보면 (Feat. 김민석 of 멜로망스)', 'BIG Naughty (서동현)'],\n",
       " '92위': ['그중에 그대를 만나', '김호중'],\n",
       " '93위': ['심(心)', 'DK(디셈버)'],\n",
       " '94위': ['LUNCH', '부석순 (SEVENTEEN)'],\n",
       " '95위': ['LO$ER=LO♡ER', '투모로우바이투게더'],\n",
       " '96위': ['당신을 만나', '김호중, 송가인'],\n",
       " '97위': ['내 기쁨은 너가 벤틀리를 끄는 거야', '김승민'],\n",
       " '98위': ['사랑해도 될까요', '양다일'],\n",
       " '99위': ['Permission to Dance', '방탄소년단'],\n",
       " '100위': ['주저하는 연인들을 위해', '잔나비']}"
      ]
     },
     "execution_count": 140,
     "metadata": {},
     "output_type": "execute_result"
    }
   ],
   "source": [
    "dict"
   ]
  },
  {
   "attachments": {},
   "cell_type": "markdown",
   "metadata": {},
   "source": [
    "#### 4. 생성된 딕셔너리로 데이터 프레임 만들기"
   ]
  },
  {
   "cell_type": "code",
   "execution_count": 141,
   "metadata": {},
   "outputs": [],
   "source": [
    "import pandas as pd\n",
    "\n",
    "data = pd.DataFrame(data=dict, index=['song', 'singer']).T"
   ]
  },
  {
   "cell_type": "code",
   "execution_count": 151,
   "metadata": {},
   "outputs": [
    {
     "ename": "KeyError",
     "evalue": "False",
     "output_type": "error",
     "traceback": [
      "\u001b[1;31m---------------------------------------------------------------------------\u001b[0m",
      "\u001b[1;31mKeyError\u001b[0m                                  Traceback (most recent call last)",
      "File \u001b[1;32mc:\\Users\\smhrd\\AppData\\Local\\Programs\\Python\\Python311\\Lib\\site-packages\\pandas\\core\\indexes\\base.py:3802\u001b[0m, in \u001b[0;36mIndex.get_loc\u001b[1;34m(self, key, method, tolerance)\u001b[0m\n\u001b[0;32m   3801\u001b[0m \u001b[39mtry\u001b[39;00m:\n\u001b[1;32m-> 3802\u001b[0m     \u001b[39mreturn\u001b[39;00m \u001b[39mself\u001b[39;49m\u001b[39m.\u001b[39;49m_engine\u001b[39m.\u001b[39;49mget_loc(casted_key)\n\u001b[0;32m   3803\u001b[0m \u001b[39mexcept\u001b[39;00m \u001b[39mKeyError\u001b[39;00m \u001b[39mas\u001b[39;00m err:\n",
      "File \u001b[1;32mc:\\Users\\smhrd\\AppData\\Local\\Programs\\Python\\Python311\\Lib\\site-packages\\pandas\\_libs\\index.pyx:138\u001b[0m, in \u001b[0;36mpandas._libs.index.IndexEngine.get_loc\u001b[1;34m()\u001b[0m\n",
      "File \u001b[1;32mc:\\Users\\smhrd\\AppData\\Local\\Programs\\Python\\Python311\\Lib\\site-packages\\pandas\\_libs\\index.pyx:165\u001b[0m, in \u001b[0;36mpandas._libs.index.IndexEngine.get_loc\u001b[1;34m()\u001b[0m\n",
      "File \u001b[1;32mpandas\\_libs\\hashtable_class_helper.pxi:5745\u001b[0m, in \u001b[0;36mpandas._libs.hashtable.PyObjectHashTable.get_item\u001b[1;34m()\u001b[0m\n",
      "File \u001b[1;32mpandas\\_libs\\hashtable_class_helper.pxi:5753\u001b[0m, in \u001b[0;36mpandas._libs.hashtable.PyObjectHashTable.get_item\u001b[1;34m()\u001b[0m\n",
      "\u001b[1;31mKeyError\u001b[0m: False",
      "\nThe above exception was the direct cause of the following exception:\n",
      "\u001b[1;31mKeyError\u001b[0m                                  Traceback (most recent call last)",
      "Cell \u001b[1;32mIn[151], line 2\u001b[0m\n\u001b[0;32m      1\u001b[0m data\u001b[39m.\u001b[39mto_excel(\u001b[39m\"\u001b[39m\u001b[39mmelon_top100.xlsx\u001b[39m\u001b[39m\"\u001b[39m)\n\u001b[1;32m----> 2\u001b[0m data[\u001b[39m'\u001b[39;49m\u001b[39msong\u001b[39;49m\u001b[39m'\u001b[39;49m\u001b[39m==\u001b[39;49m\u001b[39m\"\u001b[39;49m\u001b[39mOMG\u001b[39;49m\u001b[39m\"\u001b[39;49m]\n",
      "File \u001b[1;32mc:\\Users\\smhrd\\AppData\\Local\\Programs\\Python\\Python311\\Lib\\site-packages\\pandas\\core\\frame.py:3807\u001b[0m, in \u001b[0;36mDataFrame.__getitem__\u001b[1;34m(self, key)\u001b[0m\n\u001b[0;32m   3805\u001b[0m \u001b[39mif\u001b[39;00m \u001b[39mself\u001b[39m\u001b[39m.\u001b[39mcolumns\u001b[39m.\u001b[39mnlevels \u001b[39m>\u001b[39m \u001b[39m1\u001b[39m:\n\u001b[0;32m   3806\u001b[0m     \u001b[39mreturn\u001b[39;00m \u001b[39mself\u001b[39m\u001b[39m.\u001b[39m_getitem_multilevel(key)\n\u001b[1;32m-> 3807\u001b[0m indexer \u001b[39m=\u001b[39m \u001b[39mself\u001b[39;49m\u001b[39m.\u001b[39;49mcolumns\u001b[39m.\u001b[39;49mget_loc(key)\n\u001b[0;32m   3808\u001b[0m \u001b[39mif\u001b[39;00m is_integer(indexer):\n\u001b[0;32m   3809\u001b[0m     indexer \u001b[39m=\u001b[39m [indexer]\n",
      "File \u001b[1;32mc:\\Users\\smhrd\\AppData\\Local\\Programs\\Python\\Python311\\Lib\\site-packages\\pandas\\core\\indexes\\base.py:3804\u001b[0m, in \u001b[0;36mIndex.get_loc\u001b[1;34m(self, key, method, tolerance)\u001b[0m\n\u001b[0;32m   3802\u001b[0m     \u001b[39mreturn\u001b[39;00m \u001b[39mself\u001b[39m\u001b[39m.\u001b[39m_engine\u001b[39m.\u001b[39mget_loc(casted_key)\n\u001b[0;32m   3803\u001b[0m \u001b[39mexcept\u001b[39;00m \u001b[39mKeyError\u001b[39;00m \u001b[39mas\u001b[39;00m err:\n\u001b[1;32m-> 3804\u001b[0m     \u001b[39mraise\u001b[39;00m \u001b[39mKeyError\u001b[39;00m(key) \u001b[39mfrom\u001b[39;00m \u001b[39merr\u001b[39;00m\n\u001b[0;32m   3805\u001b[0m \u001b[39mexcept\u001b[39;00m \u001b[39mTypeError\u001b[39;00m:\n\u001b[0;32m   3806\u001b[0m     \u001b[39m# If we have a listlike key, _check_indexing_error will raise\u001b[39;00m\n\u001b[0;32m   3807\u001b[0m     \u001b[39m#  InvalidIndexError. Otherwise we fall through and re-raise\u001b[39;00m\n\u001b[0;32m   3808\u001b[0m     \u001b[39m#  the TypeError.\u001b[39;00m\n\u001b[0;32m   3809\u001b[0m     \u001b[39mself\u001b[39m\u001b[39m.\u001b[39m_check_indexing_error(key)\n",
      "\u001b[1;31mKeyError\u001b[0m: False"
     ]
    }
   ],
   "source": [
    "data.to_excel(\"melon_top100.xlsx\")\n"
   ]
  },
  {
   "cell_type": "code",
   "execution_count": null,
   "metadata": {},
   "outputs": [],
   "source": []
  }
 ],
 "metadata": {
  "kernelspec": {
   "display_name": "Python 3",
   "language": "python",
   "name": "python3"
  },
  "language_info": {
   "codemirror_mode": {
    "name": "ipython",
    "version": 3
   },
   "file_extension": ".py",
   "mimetype": "text/x-python",
   "name": "python",
   "nbconvert_exporter": "python",
   "pygments_lexer": "ipython3",
   "version": "3.11.1"
  },
  "orig_nbformat": 4,
  "vscode": {
   "interpreter": {
    "hash": "8d29ec00ae0add0190cce9c6bb44028ed64b4cb4a58b5f5c12e34c6897e75494"
   }
  }
 },
 "nbformat": 4,
 "nbformat_minor": 2
}
